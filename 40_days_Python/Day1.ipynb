{
 "cells": [
  {
   "cell_type": "code",
   "execution_count": 4,
   "metadata": {},
   "outputs": [],
   "source": [
    "def calculate_can_chi_calender(year):\n",
    "    result = \"\"\n",
    "    phan_du = year % 10\n",
    "    if phan_du==0 : can=\"Canh\"\n",
    "    elif phan_du==1: can =\"Tân\"\n",
    "    elif phan_du==2: can =\"Nhâm\"\n",
    "    elif phan_du==3: can =\"Quý\"\n",
    "    elif phan_du==4: can =\"Giáp\"\n",
    "    elif phan_du==5: can =\"Ất\"\n",
    "    elif phan_du==6: can =\"Bính\"\n",
    "    elif phan_du==7: can =\"Đinh\"\n",
    "    elif phan_du==8: can =\"Mậu\"\n",
    "    elif phan_du==9: can =\"Tân\"\n",
    "    phan_du = year % 12\n",
    "    if phan_du==0 : chi=\"Thân\"\n",
    "    elif phan_du==1: chi =\"Dậu\"\n",
    "    elif phan_du==2: chi =\"Tuất\"\n",
    "    elif phan_du==3: chi =\"Hợi\"\n",
    "    elif phan_du==4: chi =\"Tý\"\n",
    "    elif phan_du==5: chi =\"Sửu\"\n",
    "    elif phan_du==6: chi =\"Dần\"\n",
    "    elif phan_du==7: chi =\"Mão\"\n",
    "    elif phan_du==8: chi =\"Thìn\"\n",
    "    elif phan_du==9: chi =\"Tỵ\"\n",
    "    elif phan_du==10: chi =\"Ngọ\"\n",
    "    elif phan_du==11: chi =\"Mùi\"\n",
    "    result = can + \" \" + chi\n",
    "    return result"
   ]
  },
  {
   "cell_type": "code",
   "execution_count": 5,
   "metadata": {},
   "outputs": [
    {
     "data": {
      "text/plain": [
       "'Giáp Thìn'"
      ]
     },
     "execution_count": 5,
     "metadata": {},
     "output_type": "execute_result"
    }
   ],
   "source": [
    "calculate_can_chi_calender(2024)"
   ]
  },
  {
   "cell_type": "code",
   "execution_count": 6,
   "metadata": {},
   "outputs": [
    {
     "data": {
      "text/plain": [
       "'Quý Mão'"
      ]
     },
     "execution_count": 6,
     "metadata": {},
     "output_type": "execute_result"
    }
   ],
   "source": [
    "calculate_can_chi_calender(2023)"
   ]
  },
  {
   "cell_type": "code",
   "execution_count": 7,
   "metadata": {},
   "outputs": [
    {
     "data": {
      "text/plain": [
       "'Đinh Sửu'"
      ]
     },
     "execution_count": 7,
     "metadata": {},
     "output_type": "execute_result"
    }
   ],
   "source": [
    "calculate_can_chi_calender(1997)"
   ]
  },
  {
   "cell_type": "code",
   "execution_count": null,
   "metadata": {},
   "outputs": [],
   "source": []
  }
 ],
 "metadata": {
  "kernelspec": {
   "display_name": "base",
   "language": "python",
   "name": "python3"
  },
  "language_info": {
   "codemirror_mode": {
    "name": "ipython",
    "version": 3
   },
   "file_extension": ".py",
   "mimetype": "text/x-python",
   "name": "python",
   "nbconvert_exporter": "python",
   "pygments_lexer": "ipython3",
   "version": "3.10.8"
  }
 },
 "nbformat": 4,
 "nbformat_minor": 2
}
