{
 "cells": [
  {
   "cell_type": "markdown",
   "metadata": {},
   "source": [
    "## Basic Python - List"
   ]
  },
  {
   "cell_type": "markdown",
   "metadata": {},
   "source": [
    "Operation of list\n",
    "- Create a list : `list = []` or `list = list()`\n",
    "- Append : `list.append(value)`\n",
    "- Insert : `list.insert(index_position, value)`\n",
    "- Remove : `list.remove(value)`\n",
    "- Pop : `list.pop(index_position)`\n",
    "- Clear : `list.clear()`\n",
    "- Index : `list.index(value)`\n",
    "- Count : `list.count(value)`\n",
    "- Sort : `list.sort()`\n",
    "- Reverse : `list.reverse()`\n",
    "- Copy : `list.copy()`\n",
    "- Update : `list[index_position] = value`"
   ]
  },
  {
   "cell_type": "code",
   "execution_count": 3,
   "metadata": {},
   "outputs": [
    {
     "data": {
      "text/plain": [
       "[2, 4, 6, 8, 10, 12]"
      ]
     },
     "execution_count": 3,
     "metadata": {},
     "output_type": "execute_result"
    }
   ],
   "source": [
    "# 7.1   Create a list that contains even numbers from 1 to 12\n",
    "lst_data = list(range(1, 13, 1))\n",
    "lst_data = [i for i in lst_data if i % 2 == 0]\n",
    "lst_data"
   ]
  },
  {
   "cell_type": "code",
   "execution_count": 4,
   "metadata": {},
   "outputs": [
    {
     "data": {
      "text/plain": [
       "[2, 4, 8, 10]"
      ]
     },
     "execution_count": 4,
     "metadata": {},
     "output_type": "execute_result"
    }
   ],
   "source": [
    "# 7.2   Delete all elêmnts that divide by 3\n",
    "for i in lst_data:\n",
    "    if i % 3 == 0:\n",
    "        lst_data.remove(i)\n",
    "lst_data"
   ]
  },
  {
   "cell_type": "code",
   "execution_count": 5,
   "metadata": {},
   "outputs": [
    {
     "data": {
      "text/plain": [
       "[2, 4, 8, 6, 7, 8, 10, 1, 2, 3]"
      ]
     },
     "execution_count": 5,
     "metadata": {},
     "output_type": "execute_result"
    }
   ],
   "source": [
    "# 7.3   Insert at the end numbers 1,2,3 , then insert at index 3 numbers 6,7,8\n",
    "lst_data.extend([1, 2, 3])\n",
    "lst_data.insert(3, 6)\n",
    "lst_data.insert(4, 7)\n",
    "lst_data.insert(5, 8)\n",
    "lst_data"
   ]
  },
  {
   "cell_type": "code",
   "execution_count": 6,
   "metadata": {},
   "outputs": [
    {
     "data": {
      "text/plain": [
       "[0, 0, 0, 0, 7, 0, 0, 1, 0, 3]"
      ]
     },
     "execution_count": 6,
     "metadata": {},
     "output_type": "execute_result"
    }
   ],
   "source": [
    "# 7.4   If the element is divisible by 2 or by 5, update it to 0\n",
    "for i in range(len(lst_data)):\n",
    "    if lst_data[i] % 2 == 0 or lst_data[i] % 5 == 0:\n",
    "        lst_data[i] = 0\n",
    "lst_data"
   ]
  },
  {
   "cell_type": "code",
   "execution_count": null,
   "metadata": {},
   "outputs": [],
   "source": []
  }
 ],
 "metadata": {
  "kernelspec": {
   "display_name": "aio",
   "language": "python",
   "name": "python3"
  },
  "language_info": {
   "codemirror_mode": {
    "name": "ipython",
    "version": 3
   },
   "file_extension": ".py",
   "mimetype": "text/x-python",
   "name": "python",
   "nbconvert_exporter": "python",
   "pygments_lexer": "ipython3",
   "version": "3.10.14"
  }
 },
 "nbformat": 4,
 "nbformat_minor": 2
}
