{
 "cells": [
  {
   "cell_type": "markdown",
   "metadata": {},
   "source": [
    "## Daily AI Exercise - Numpy - pytorch - tensorflow - part 2"
   ]
  },
  {
   "cell_type": "code",
   "execution_count": 1,
   "metadata": {},
   "outputs": [],
   "source": [
    "import numpy as np\n",
    "import torch\n",
    "import tensorflow as tf"
   ]
  },
  {
   "cell_type": "markdown",
   "metadata": {},
   "source": [
    "### arange, range\n",
    "- numpy: `np.arange(start, stop, step)`\n",
    "- pytorch: `torch.arange(start, stop, step)`\n",
    "- tensorflow: `tf.range(start, limit, delta)`"
   ]
  },
  {
   "cell_type": "code",
   "execution_count": 3,
   "metadata": {},
   "outputs": [
    {
     "name": "stdout",
     "output_type": "stream",
     "text": [
      "[0 1 2 3 4 5 6 7 8 9]\n",
      "tensor([0, 1, 2, 3, 4, 5, 6, 7, 8, 9])\n",
      "tf.Tensor([0 1 2 3 4 5 6 7 8 9], shape=(10,), dtype=int32)\n"
     ]
    }
   ],
   "source": [
    "#1\n",
    "numpy_arr = np.arange(0, 10, 1)\n",
    "print(numpy_arr)\n",
    "torch_tensor = torch.arange(0, 10, 1)\n",
    "print(torch_tensor)\n",
    "tf_tensor = tf.range(0, 10, 1)\n",
    "print(tf_tensor)"
   ]
  },
  {
   "cell_type": "markdown",
   "metadata": {},
   "source": [
    "### eye\n",
    "- numpy: `np.eye(N)`\n",
    "- pytorch: `torch.eye(n)`\n",
    "- tensorflow: `tf.eye(num_rows, num_columns=None, batch_shape=None)`"
   ]
  },
  {
   "cell_type": "code",
   "execution_count": 4,
   "metadata": {},
   "outputs": [
    {
     "name": "stdout",
     "output_type": "stream",
     "text": [
      "[[1. 0. 0.]\n",
      " [0. 1. 0.]\n",
      " [0. 0. 1.]]\n",
      "tensor([[1., 0., 0.],\n",
      "        [0., 1., 0.],\n",
      "        [0., 0., 1.]])\n",
      "tf.Tensor(\n",
      "[[1. 0. 0.]\n",
      " [0. 1. 0.]\n",
      " [0. 0. 1.]], shape=(3, 3), dtype=float32)\n"
     ]
    }
   ],
   "source": [
    "numpy_arr = np.eye(3)\n",
    "print(numpy_arr)\n",
    "torch_tensor = torch.eye(3)\n",
    "print(torch_tensor)\n",
    "tf_tensor = tf.eye(3)\n",
    "print(tf_tensor)"
   ]
  },
  {
   "cell_type": "markdown",
   "metadata": {},
   "source": [
    "### random\n",
    "- numpy: `np.random.rand(d0, d1, ..., dn)`\n",
    "- pytorch: `torch.rand(*sizes, out=None, dtype=None, layout=torch.strided, device=None, requires_grad=False)`\n",
    "- tensorflow: `tf.random.uniform(shape, minval=0, maxval=None, dtype=tf.dtypes.float32, seed=None, name=None)`\n",
    "- numpy: `np.random.randn(d0, d1, ..., dn)`\n",
    "- pytorch: `torch.randn(*sizes, out=None, dtype=None, layout=torch.strided, device=None, requires_grad=False)`\n",
    "- tensorflow: `tf.random.normal(shape, mean=0.0, stddev=1.0, dtype=tf.dtypes.float32, seed=None, name=None)`\n",
    "- numpy: `np.random.randint(low, high=None, size=None, dtype=int)`\n",
    "- pytorch: `torch.randint(low=0, high, size, dtype=None, layout=torch.strided, device=None, requires_grad=False)`\n",
    "- tensorflow: `tf.random.uniform(shape, minval=0, maxval=None, dtype=tf.dtypes.float32, seed=None, name=None)`\n",
    "- numpy: `np.random.seed(seed)`\n",
    "- pytorch: `torch.manual_seed(seed)`\n",
    "- tensorflow: `tf.random.set_seed(seed)`"
   ]
  },
  {
   "cell_type": "code",
   "execution_count": 7,
   "metadata": {},
   "outputs": [
    {
     "name": "stdout",
     "output_type": "stream",
     "text": [
      "[[0.58801452 0.69910875 0.18815196 0.04380856]\n",
      " [0.20501895 0.10606287 0.72724014 0.67940052]\n",
      " [0.4738457  0.44829582 0.01910695 0.75259834]]\n",
      "[[ 5  1 -3  8]\n",
      " [-1 -4  0 -9]\n",
      " [-5  9 -6 -2]]\n"
     ]
    }
   ],
   "source": [
    "np.random.seed(2024)\n",
    "numpy_arr = np.random.rand(3, 4)\n",
    "print(numpy_arr)\n",
    "\n",
    "arr_randint = np.random.randint(-10, 10, size=(3, 4))\n",
    "print(arr_randint)"
   ]
  },
  {
   "cell_type": "code",
   "execution_count": 8,
   "metadata": {},
   "outputs": [
    {
     "name": "stdout",
     "output_type": "stream",
     "text": [
      "tensor([[0.5317, 0.8313, 0.9718, 0.1193],\n",
      "        [0.1669, 0.3495, 0.2150, 0.6201],\n",
      "        [0.4849, 0.7492, 0.1521, 0.5625]])\n",
      "tensor([[  1,   8,   0,  -2],\n",
      "        [ -9, -10,  -9,   0],\n",
      "        [ -3,  -7,  -4,   8]])\n"
     ]
    }
   ],
   "source": [
    "torch.manual_seed(2024)\n",
    "\n",
    "torch_tensor = torch.rand(3, 4)\n",
    "print(torch_tensor)\n",
    "\n",
    "torch_tensor = torch.randint(-10, 10, (3, 4))\n",
    "print(torch_tensor)\n"
   ]
  },
  {
   "cell_type": "code",
   "execution_count": 9,
   "metadata": {},
   "outputs": [
    {
     "name": "stdout",
     "output_type": "stream",
     "text": [
      "tf.Tensor(\n",
      "[[0.90034294 0.19453335 0.36069036 0.66361904]\n",
      " [0.76605344 0.2159369  0.6261736  0.07380784]\n",
      " [0.22062695 0.934368   0.93327904 0.69267046]], shape=(3, 4), dtype=float32)\n",
      "tf.Tensor(\n",
      "[[-3 -7  9  3]\n",
      " [ 2 -5 -3 -5]\n",
      " [ 4 -3 -3  5]], shape=(3, 4), dtype=int32)\n"
     ]
    }
   ],
   "source": [
    "tf.random.set_seed(2024)\n",
    "\n",
    "tf_tensor = tf.random.uniform((3, 4))\n",
    "print(tf_tensor)\n",
    "\n",
    "tf_tensor = tf.random.uniform((3, 4), minval=-10, maxval=10, dtype=tf.int32)\n",
    "print(tf_tensor)"
   ]
  },
  {
   "cell_type": "code",
   "execution_count": null,
   "metadata": {},
   "outputs": [],
   "source": []
  }
 ],
 "metadata": {
  "kernelspec": {
   "display_name": "aio",
   "language": "python",
   "name": "python3"
  },
  "language_info": {
   "codemirror_mode": {
    "name": "ipython",
    "version": 3
   },
   "file_extension": ".py",
   "mimetype": "text/x-python",
   "name": "python",
   "nbconvert_exporter": "python",
   "pygments_lexer": "ipython3",
   "version": "3.10.8"
  }
 },
 "nbformat": 4,
 "nbformat_minor": 2
}
