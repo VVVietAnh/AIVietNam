{
 "cells": [
  {
   "cell_type": "markdown",
   "metadata": {},
   "source": [
    "## Basic Python - Bag of words"
   ]
  },
  {
   "cell_type": "code",
   "execution_count": 1,
   "metadata": {},
   "outputs": [
    {
     "name": "stdout",
     "output_type": "stream",
     "text": [
      "[['Tôi', 'thích', 'môn', 'Toán'], ['Tôi', 'thích', 'AI'], ['Tôi', 'thích', 'âm', 'nhạc']]\n"
     ]
    }
   ],
   "source": [
    "corpus = [\"Tôi thích môn Toán\", \"Tôi thích AI\", \"Tôi thích âm nhạc\"]\n",
    "\n",
    "# tokenize\n",
    "tokens = [doc.split() for doc in corpus]\n",
    "print(tokens)"
   ]
  },
  {
   "cell_type": "code",
   "execution_count": 7,
   "metadata": {},
   "outputs": [
    {
     "name": "stdout",
     "output_type": "stream",
     "text": [
      "['Tôi', 'âm', 'môn', 'AI', 'nhạc', 'Toán', 'thích']\n"
     ]
    }
   ],
   "source": [
    "# build vocabulary\n",
    "vocabulary = set()\n",
    "for doc in tokens:\n",
    "    vocabulary.update(doc)\n",
    "vocabulary = list(vocabulary)\n",
    "print(vocabulary)"
   ]
  },
  {
   "cell_type": "code",
   "execution_count": 8,
   "metadata": {},
   "outputs": [
    {
     "name": "stdout",
     "output_type": "stream",
     "text": [
      "[1, 0, 0, 1, 0, 1, 2]\n"
     ]
    }
   ],
   "source": [
    "input = \"Tôi thích AI thích Toán\"\n",
    "output_vector = [0] * len(vocabulary)\n",
    "for word in input.split():\n",
    "    if word in vocabulary:\n",
    "        output_vector[vocabulary.index(word)] += 1\n",
    "print(output_vector)"
   ]
  }
 ],
 "metadata": {
  "kernelspec": {
   "display_name": "aio",
   "language": "python",
   "name": "python3"
  },
  "language_info": {
   "codemirror_mode": {
    "name": "ipython",
    "version": 3
   },
   "file_extension": ".py",
   "mimetype": "text/x-python",
   "name": "python",
   "nbconvert_exporter": "python",
   "pygments_lexer": "ipython3",
   "version": "3.10.14"
  }
 },
 "nbformat": 4,
 "nbformat_minor": 2
}
