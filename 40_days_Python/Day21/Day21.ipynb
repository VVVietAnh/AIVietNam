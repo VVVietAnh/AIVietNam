{
 "cells": [
  {
   "cell_type": "markdown",
   "metadata": {},
   "source": [
    "## Daily AI Exercise - File"
   ]
  },
  {
   "cell_type": "code",
   "execution_count": 1,
   "metadata": {},
   "outputs": [],
   "source": [
    "with open(\"data.txt\", \"r\") as file:\n",
    "    data = file.read()"
   ]
  },
  {
   "cell_type": "code",
   "execution_count": 2,
   "metadata": {},
   "outputs": [
    {
     "data": {
      "text/plain": [
       "'he who conquers himself is the mightiest warrior try not to become a man of success but rather become a man of value one man with courage makes a majority one secret of success in life is for a man to be ready for his opportunity when it comes the successful man will profit from his mistakes and try again in a different way a successful man is one who can lay a firm foundation with the bricks others have thrown at him success usually comes to those who are too busy looking for it we cannot solve problems with the kind of thinking we employed when we came up with them just one small positive thought in the morning can change your whole day you can get everything in life you want if you will just help enough other people get what they want data.txt displaying data.txt.'"
      ]
     },
     "execution_count": 2,
     "metadata": {},
     "output_type": "execute_result"
    }
   ],
   "source": [
    "#1\n",
    "data = data.replace(\"\\n\", \" \")\n",
    "data = data.lower()\n",
    "data"
   ]
  },
  {
   "cell_type": "code",
   "execution_count": 3,
   "metadata": {},
   "outputs": [
    {
     "name": "stdout",
     "output_type": "stream",
     "text": [
      "{'one', 'and', 'for', 'you', 'profit', 'can', 'people', 'but', 'what', 'them', 'warrior', 'majority', 'thought', 'him', 'we', 'conquers', 'his', 'again', 'at', 'value', 'courage', 'when', 'enough', 'secret', 'up', 'life', 'be', 'thinking', 'way', 'change', 'positive', 'data.txt', 'will', 'he', 'successful', 'bricks', 'who', 'it', 'rather', 'lay', 'firm', 'day', 'data.txt.', 'have', 'usually', 'become', 'makes', 'problems', 'is', 'just', 'small', 'try', 'those', 'everything', 'solve', 'himself', 'in', 'mightiest', 'a', 'busy', 'they', 'mistakes', 'success', 'displaying', 'your', 'looking', 'not', 'ready', 'other', 'want', 'comes', 'to', 'get', 'help', 'opportunity', 'from', 'are', 'too', 'different', 'thrown', 'of', 'others', 'whole', 'with', 'morning', 'foundation', 'man', 'the', 'if', 'cannot', 'kind', 'came', 'employed'}\n"
     ]
    }
   ],
   "source": [
    "#2\n",
    "words = data.split(\" \")\n",
    "words_set = set(words)\n",
    "print(words_set)"
   ]
  },
  {
   "cell_type": "code",
   "execution_count": 4,
   "metadata": {},
   "outputs": [
    {
     "name": "stdout",
     "output_type": "stream",
     "text": [
      "Most common words: ['a'] with 7 occurences\n",
      "Least common words: ['he', 'conquers', 'himself', 'mightiest', 'warrior', 'not', 'but', 'rather', 'value', 'courage', 'makes', 'majority', 'secret', 'be', 'ready', 'opportunity', 'profit', 'from', 'mistakes', 'and', 'again', 'different', 'way', 'lay', 'firm', 'foundation', 'bricks', 'others', 'have', 'thrown', 'at', 'him', 'usually', 'those', 'are', 'too', 'busy', 'looking', 'cannot', 'solve', 'problems', 'kind', 'thinking', 'employed', 'came', 'up', 'them', 'small', 'positive', 'thought', 'morning', 'change', 'your', 'whole', 'day', 'everything', 'if', 'help', 'enough', 'other', 'people', 'what', 'they', 'data.txt', 'displaying', 'data.txt.'] with 1 occurences\n"
     ]
    }
   ],
   "source": [
    "#3\n",
    "dict_words = {}\n",
    "for word in words:\n",
    "    if word in dict_words.keys():\n",
    "        dict_words[word] += 1\n",
    "    else:\n",
    "        dict_words[word] = 1\n",
    "# most common word\n",
    "max_value = max(dict_words.values())\n",
    "max_word = [k for k, v in dict_words.items() if v == max_value]\n",
    "print(f\"Most common words: {max_word} with {max_value} occurences\")\n",
    "\n",
    "# least common word\n",
    "min_value = min(dict_words.values())\n",
    "min_word = [k for k, v in dict_words.items() if v == min_value]\n",
    "print(f\"Least common words: {min_word} with {min_value} occurences\")"
   ]
  },
  {
   "cell_type": "code",
   "execution_count": null,
   "metadata": {},
   "outputs": [],
   "source": []
  }
 ],
 "metadata": {
  "kernelspec": {
   "display_name": "aio",
   "language": "python",
   "name": "python3"
  },
  "language_info": {
   "codemirror_mode": {
    "name": "ipython",
    "version": 3
   },
   "file_extension": ".py",
   "mimetype": "text/x-python",
   "name": "python",
   "nbconvert_exporter": "python",
   "pygments_lexer": "ipython3",
   "version": "3.10.14"
  }
 },
 "nbformat": 4,
 "nbformat_minor": 2
}
