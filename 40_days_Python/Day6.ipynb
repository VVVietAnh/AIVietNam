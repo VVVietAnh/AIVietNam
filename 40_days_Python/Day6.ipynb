{
 "cells": [
  {
   "cell_type": "markdown",
   "metadata": {},
   "source": [
    "## Basic Python - Switch/Case"
   ]
  },
  {
   "cell_type": "code",
   "execution_count": 1,
   "metadata": {},
   "outputs": [
    {
     "name": "stdout",
     "output_type": "stream",
     "text": [
      "Wake up\n"
     ]
    }
   ],
   "source": [
    "# Method 1 - If elif else\n",
    "time = input(\"Input time: \")\n",
    "if time == \"5 AM\":\n",
    "    print(\"Wake up\")\n",
    "elif time == \"6 AM\":\n",
    "    print(\"Yoga\")\n",
    "elif time == \"7 AM\":\n",
    "    print(\"Work\")\n",
    "else: \n",
    "    print(\"Do something else\")"
   ]
  },
  {
   "cell_type": "code",
   "execution_count": 2,
   "metadata": {},
   "outputs": [
    {
     "data": {
      "text/plain": [
       "'Wake up'"
      ]
     },
     "execution_count": 2,
     "metadata": {},
     "output_type": "execute_result"
    }
   ],
   "source": [
    "# Method 2 - Dictionary\n",
    "todo = {\"5 AM\": \"Wake up\", \"6 AM\": \"Yoga\", \"7 AM\": \"Work\"}\n",
    "time = input(\"Input time: \")\n",
    "todo.get(time, \"Do something else\")"
   ]
  },
  {
   "cell_type": "code",
   "execution_count": 4,
   "metadata": {},
   "outputs": [
    {
     "name": "stdout",
     "output_type": "stream",
     "text": [
      "Yoga\n"
     ]
    }
   ],
   "source": [
    "# Method 3 - Match Case (Python 3.10+)\n",
    "time = input(\"Input time: \")\n",
    "match time:\n",
    "    case \"5 AM\":\n",
    "        print(\"Wake up\")\n",
    "    case \"6 AM\":\n",
    "        print(\"Yoga\")\n",
    "    case \"7 AM\":\n",
    "        print(\"Work\")\n",
    "    case _:\n",
    "        print(\"Do something else\")"
   ]
  },
  {
   "cell_type": "code",
   "execution_count": null,
   "metadata": {},
   "outputs": [],
   "source": []
  }
 ],
 "metadata": {
  "kernelspec": {
   "display_name": "aio",
   "language": "python",
   "name": "python3"
  },
  "language_info": {
   "codemirror_mode": {
    "name": "ipython",
    "version": 3
   },
   "file_extension": ".py",
   "mimetype": "text/x-python",
   "name": "python",
   "nbconvert_exporter": "python",
   "pygments_lexer": "ipython3",
   "version": "3.10.14"
  }
 },
 "nbformat": 4,
 "nbformat_minor": 2
}
