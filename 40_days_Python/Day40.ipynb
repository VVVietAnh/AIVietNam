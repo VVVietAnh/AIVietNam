{
 "cells": [
  {
   "cell_type": "markdown",
   "metadata": {},
   "source": [
    "## Numpy Array và Pytorch/Tensorflow Tensor"
   ]
  },
  {
   "cell_type": "code",
   "execution_count": 1,
   "metadata": {},
   "outputs": [
    {
     "name": "stdout",
     "output_type": "stream",
     "text": [
      "Mảng 1 chiều NumPy:\n",
      " [1 2 3 4 5 6 7 8 9] <class 'numpy.ndarray'>\n",
      "Tensor PyTorch 1 chiều:\n",
      " tensor([1, 2, 3, 4, 5, 6, 7, 8, 9])\n",
      "Tensor TensorFlow 1 chiều:\n",
      " tf.Tensor([1 2 3 4 5 6 7 8 9], shape=(9,), dtype=int32)\n"
     ]
    }
   ],
   "source": [
    "import numpy as np\n",
    "import torch\n",
    "import tensorflow as tf\n",
    "\n",
    "# Tạo một danh sách 1 chiều\n",
    "list_1D = [1, 2, 3, 4, 5, 6, 7, 8, 9]\n",
    "\n",
    "# Tạo một mảng 1 chiều từ danh sách\n",
    "arr_1D = np.array(list_1D)\n",
    "print(\"Mảng 1 chiều NumPy:\\n\", arr_1D, type(arr_1D))\n",
    "\n",
    "# Tạo một tensor PyTorch từ danh sách\n",
    "tensor_1D_pt = torch.tensor(list_1D)\n",
    "print(\"Tensor PyTorch 1 chiều:\\n\", tensor_1D_pt)\n",
    "\n",
    "# Tạo một tensor TensorFlow từ danh sách\n",
    "tensor_1D_tf = tf.convert_to_tensor(list_1D)\n",
    "print(\"Tensor TensorFlow 1 chiều:\\n\", tensor_1D_tf)\n"
   ]
  },
  {
   "cell_type": "code",
   "execution_count": 2,
   "metadata": {},
   "outputs": [
    {
     "name": "stdout",
     "output_type": "stream",
     "text": [
      "Hình dạng của mảng: (3, 3)\n",
      "Kiểu dữ liệu của mảng: int32\n",
      "Loại của mảng: <class 'numpy.ndarray'>\n",
      "Mảng:\n",
      " [[1 2 3]\n",
      " [4 5 6]\n",
      " [7 8 9]]\n"
     ]
    }
   ],
   "source": [
    "# Tạo một danh sách 2 chiều\n",
    "list_2D = [[1, 2, 3], [4, 5, 6], [7, 8, 9]]\n",
    "\n",
    "# Tạo một mảng 2 chiều\n",
    "arr_2D = np.array(list_2D)\n",
    "\n",
    "# Kiểm tra hình dạng, kiểu dữ liệu và loại\n",
    "print(\"Hình dạng của mảng:\", arr_2D.shape)\n",
    "print(\"Kiểu dữ liệu của mảng:\", arr_2D.dtype)\n",
    "print(\"Loại của mảng:\", type(arr_2D))\n",
    "print(\"Mảng:\\n\", arr_2D)"
   ]
  },
  {
   "cell_type": "code",
   "execution_count": 3,
   "metadata": {},
   "outputs": [
    {
     "name": "stdout",
     "output_type": "stream",
     "text": [
      "Hình dạng của tensor: (3, 3)\n",
      "Kiểu dữ liệu của tensor: <dtype: 'int32'>\n",
      "Loại của tensor: <class 'tensorflow.python.framework.ops.EagerTensor'>\n",
      "Thiết bị lưu trữ của tensor: /job:localhost/replica:0/task:0/device:CPU:0\n",
      "Tensor:\n",
      " tf.Tensor(\n",
      "[[1 2 3]\n",
      " [4 5 6]\n",
      " [7 8 9]], shape=(3, 3), dtype=int32)\n"
     ]
    }
   ],
   "source": [
    "# Tạo một tensor 2 chiều\n",
    "tensor_2D_tf = tf.convert_to_tensor(list_2D)\n",
    "\n",
    "# Kiểm tra hình dạng, kiểu dữ liệu, loại, thiết bị lưu trữ của tensor\n",
    "print(\"Hình dạng của tensor:\", tensor_2D_tf.shape)\n",
    "print(\"Kiểu dữ liệu của tensor:\", tensor_2D_tf.dtype)\n",
    "print(\"Loại của tensor:\", type(tensor_2D_tf))\n",
    "print(\"Thiết bị lưu trữ của tensor:\", tensor_2D_tf.device)\n",
    "print(\"Tensor:\\n\", tensor_2D_tf)"
   ]
  },
  {
   "cell_type": "code",
   "execution_count": 4,
   "metadata": {},
   "outputs": [
    {
     "name": "stdout",
     "output_type": "stream",
     "text": [
      "Hình dạng của tensor: torch.Size([3, 3])\n",
      "Kiểu dữ liệu của tensor: torch.int32\n",
      "Loại của tensor: <class 'torch.Tensor'>\n",
      "Thiết bị lưu trữ của tensor: cpu\n",
      "Tensor:\n",
      " tensor([[1, 2, 3],\n",
      "        [4, 5, 6],\n",
      "        [7, 8, 9]], dtype=torch.int32)\n"
     ]
    }
   ],
   "source": [
    "# Tạo một tensor 2 chiều từ mảng NumPy\n",
    "tensor_2D_pt = torch.tensor(arr_2D)\n",
    "\n",
    "# Kiểm tra hình dạng, kiểu dữ liệu, loại, thiết bị lưu trữ của tensor\n",
    "print(\"Hình dạng của tensor:\", tensor_2D_pt.shape)\n",
    "print(\"Kiểu dữ liệu của tensor:\", tensor_2D_pt.dtype)\n",
    "print(\"Loại của tensor:\", type(tensor_2D_pt))\n",
    "print(\"Thiết bị lưu trữ của tensor:\", tensor_2D_pt.device)\n",
    "print(\"Tensor:\\n\", tensor_2D_pt)\n"
   ]
  },
  {
   "cell_type": "markdown",
   "metadata": {},
   "source": [
    "## Các Hàm Khởi Tạo Numpy Array và Pytorch/Tensorflow Tensor - Phần 1"
   ]
  },
  {
   "cell_type": "code",
   "execution_count": 5,
   "metadata": {},
   "outputs": [
    {
     "name": "stdout",
     "output_type": "stream",
     "text": [
      "[[0. 0. 0. 0.]\n",
      " [0. 0. 0. 0.]\n",
      " [0. 0. 0. 0.]]\n"
     ]
    }
   ],
   "source": [
    "# Numpy code\n",
    "import numpy as np\n",
    "\n",
    "# Tạo array toàn số 0\n",
    "arr_zeros = np.zeros ((3 , 4))\n",
    "print(arr_zeros)"
   ]
  },
  {
   "cell_type": "code",
   "execution_count": 6,
   "metadata": {},
   "outputs": [
    {
     "name": "stdout",
     "output_type": "stream",
     "text": [
      "tensor([[0., 0., 0., 0.],\n",
      "        [0., 0., 0., 0.],\n",
      "        [0., 0., 0., 0.]])\n"
     ]
    }
   ],
   "source": [
    "# Tạo tensor toàn số 0\n",
    "tensor_zeros = torch.zeros((3, 4))\n",
    "print(tensor_zeros)"
   ]
  },
  {
   "cell_type": "code",
   "execution_count": 8,
   "metadata": {},
   "outputs": [
    {
     "name": "stdout",
     "output_type": "stream",
     "text": [
      "tf.Tensor(\n",
      "[[0. 0. 0. 0.]\n",
      " [0. 0. 0. 0.]\n",
      " [0. 0. 0. 0.]], shape=(3, 4), dtype=float32)\n"
     ]
    }
   ],
   "source": [
    "# TensorFlow code\n",
    "import tensorflow as tf\n",
    "\n",
    "# Tạo tensor toàn số 0\n",
    "tensor_zeros = tf.zeros((3, 4))\n",
    "print(tensor_zeros)"
   ]
  },
  {
   "cell_type": "code",
   "execution_count": 9,
   "metadata": {},
   "outputs": [
    {
     "name": "stdout",
     "output_type": "stream",
     "text": [
      "[[1. 1. 1. 1.]\n",
      " [1. 1. 1. 1.]\n",
      " [1. 1. 1. 1.]]\n"
     ]
    }
   ],
   "source": [
    "# Tạo array toàn số 1\n",
    "arr_ones = np.ones((3, 4))\n",
    "print(arr_ones)"
   ]
  },
  {
   "cell_type": "code",
   "execution_count": 10,
   "metadata": {},
   "outputs": [
    {
     "name": "stdout",
     "output_type": "stream",
     "text": [
      "tensor([[1., 1., 1., 1.],\n",
      "        [1., 1., 1., 1.],\n",
      "        [1., 1., 1., 1.]])\n"
     ]
    }
   ],
   "source": [
    "# Tạo tensor toàn số 1\n",
    "tensor_ones = torch.ones((3, 4))\n",
    "print(tensor_ones)"
   ]
  },
  {
   "cell_type": "code",
   "execution_count": 11,
   "metadata": {},
   "outputs": [
    {
     "name": "stdout",
     "output_type": "stream",
     "text": [
      "tf.Tensor(\n",
      "[[1. 1. 1. 1.]\n",
      " [1. 1. 1. 1.]\n",
      " [1. 1. 1. 1.]], shape=(3, 4), dtype=float32)\n"
     ]
    }
   ],
   "source": [
    "# Tạo tensor toàn số 1\n",
    "tensor_ones = tf.ones((3, 4))\n",
    "print(tensor_ones)"
   ]
  },
  {
   "cell_type": "code",
   "execution_count": 12,
   "metadata": {},
   "outputs": [
    {
     "name": "stdout",
     "output_type": "stream",
     "text": [
      "[[5 5 5 5]\n",
      " [5 5 5 5]\n",
      " [5 5 5 5]]\n"
     ]
    }
   ],
   "source": [
    "# Tạo array toàn số 5\n",
    "arr_fives = np.full((3, 4), 5)\n",
    "print(arr_fives)"
   ]
  },
  {
   "cell_type": "code",
   "execution_count": 13,
   "metadata": {},
   "outputs": [
    {
     "name": "stdout",
     "output_type": "stream",
     "text": [
      "tensor([[5, 5, 5, 5],\n",
      "        [5, 5, 5, 5],\n",
      "        [5, 5, 5, 5]])\n"
     ]
    }
   ],
   "source": [
    "# Tạo tensor toàn số 5\n",
    "tensor_fives = torch.full((3, 4), 5)\n",
    "print(tensor_fives)"
   ]
  },
  {
   "cell_type": "code",
   "execution_count": 14,
   "metadata": {},
   "outputs": [
    {
     "name": "stdout",
     "output_type": "stream",
     "text": [
      "tf.Tensor(\n",
      "[[5 5 5 5]\n",
      " [5 5 5 5]\n",
      " [5 5 5 5]], shape=(3, 4), dtype=int32)\n"
     ]
    }
   ],
   "source": [
    "# Tạo tensor toàn số 5\n",
    "tensor_fives = tf.fill((3, 4), 5)\n",
    "print(tensor_fives)"
   ]
  },
  {
   "cell_type": "markdown",
   "metadata": {},
   "source": [
    "## Các Hàm Khởi Tạo Numpy Array và Pytorch/Tensorflow Tensor - Phần 2"
   ]
  },
  {
   "cell_type": "code",
   "execution_count": 15,
   "metadata": {},
   "outputs": [
    {
     "name": "stdout",
     "output_type": "stream",
     "text": [
      "[0 1 2 3 4 5 6 7 8 9]\n"
     ]
    }
   ],
   "source": [
    "# Tạo array trong khoảng [0 , 10), bước nhảy 1\n",
    "arr_range = np.arange(0, 10, 1)\n",
    "print(arr_range)"
   ]
  },
  {
   "cell_type": "code",
   "execution_count": 16,
   "metadata": {},
   "outputs": [
    {
     "name": "stdout",
     "output_type": "stream",
     "text": [
      "tensor([0, 1, 2, 3, 4, 5, 6, 7, 8, 9])\n"
     ]
    }
   ],
   "source": [
    "# Tạo tensor trong khoảng [0 , 10), bước nhảy 1\n",
    "tensor_range = torch.arange(0, 10, 1)\n",
    "print(tensor_range)"
   ]
  },
  {
   "cell_type": "code",
   "execution_count": 17,
   "metadata": {},
   "outputs": [
    {
     "name": "stdout",
     "output_type": "stream",
     "text": [
      "tf.Tensor([0 1 2 3 4 5 6 7 8 9], shape=(10,), dtype=int32)\n"
     ]
    }
   ],
   "source": [
    "# Tạo tensor trong khoảng [0 , 10), bước nhảy 1\n",
    "tensor_range = tf.range(0, 10, 1)\n",
    "print(tensor_range)"
   ]
  },
  {
   "cell_type": "code",
   "execution_count": 18,
   "metadata": {},
   "outputs": [
    {
     "name": "stdout",
     "output_type": "stream",
     "text": [
      "[[1. 0. 0.]\n",
      " [0. 1. 0.]\n",
      " [0. 0. 1.]]\n"
     ]
    }
   ],
   "source": [
    "# Tạo array với đường chéo chính là 1, còn lại là 0\n",
    "arr_eye = np.eye(3)\n",
    "print(arr_eye)"
   ]
  },
  {
   "cell_type": "code",
   "execution_count": 19,
   "metadata": {},
   "outputs": [
    {
     "name": "stdout",
     "output_type": "stream",
     "text": [
      "tensor([[1., 0., 0.],\n",
      "        [0., 1., 0.],\n",
      "        [0., 0., 1.]])\n"
     ]
    }
   ],
   "source": [
    "# Tạo tensor với đường chéo chính là 1, còn lại là 0\n",
    "tensor_eye = torch.eye(3)\n",
    "print(tensor_eye)"
   ]
  },
  {
   "cell_type": "code",
   "execution_count": 20,
   "metadata": {},
   "outputs": [
    {
     "name": "stdout",
     "output_type": "stream",
     "text": [
      "tf.Tensor(\n",
      "[[1. 0. 0.]\n",
      " [0. 1. 0.]\n",
      " [0. 0. 1.]], shape=(3, 3), dtype=float32)\n"
     ]
    }
   ],
   "source": [
    "# Tạo tensor với đường chéo chính là 1, còn lại là 0\n",
    "tensor_eye = tf.eye(3)\n",
    "print(tensor_eye)"
   ]
  },
  {
   "cell_type": "code",
   "execution_count": 21,
   "metadata": {},
   "outputs": [
    {
     "name": "stdout",
     "output_type": "stream",
     "text": [
      "Mảng ngẫu nhiên trong khoảng [0, 1):\n",
      " [[0.58801452 0.69910875 0.18815196 0.04380856]\n",
      " [0.20501895 0.10606287 0.72724014 0.67940052]\n",
      " [0.4738457  0.44829582 0.01910695 0.75259834]]\n",
      "Mảng ngẫu nhiên trong khoảng [-10, 10):\n",
      " [[ 5  1 -3  8]\n",
      " [-1 -4  0 -9]\n",
      " [-5  9 -6 -2]]\n"
     ]
    }
   ],
   "source": [
    "# Đặt seed để đảm bảo kết quả ngẫu nhiên có thể tái tạo được\n",
    "np.random.seed(2024)\n",
    "\n",
    "# Tạo một mảng với các giá trị ngẫu nhiên trong khoảng [0, 1) với kích thước (3, 4)\n",
    "arr_rand = np.random.rand(3, 4)\n",
    "print(\"Mảng ngẫu nhiên trong khoảng [0, 1):\\n\", arr_rand)\n",
    "\n",
    "# Tạo một mảng với các giá trị ngẫu nhiên trong khoảng [-10, 10)\n",
    "arr_randint = np.random.randint(-10, 10, size=(3, 4))\n",
    "print(\"Mảng ngẫu nhiên trong khoảng [-10, 10):\\n\", arr_randint)"
   ]
  },
  {
   "cell_type": "code",
   "execution_count": 22,
   "metadata": {},
   "outputs": [
    {
     "name": "stdout",
     "output_type": "stream",
     "text": [
      "Tensor ngẫu nhiên trong khoảng [0, 1):\n",
      " tensor([[0.5317, 0.8313, 0.9718, 0.1193],\n",
      "        [0.1669, 0.3495, 0.2150, 0.6201],\n",
      "        [0.4849, 0.7492, 0.1521, 0.5625]])\n",
      "Tensor ngẫu nhiên trong khoảng [-10, 10):\n",
      " tensor([[  1,   8,   0,  -2],\n",
      "        [ -9, -10,  -9,   0],\n",
      "        [ -3,  -7,  -4,   8]])\n"
     ]
    }
   ],
   "source": [
    "# Pytorch code\n",
    "# Đặt seed để đảm bảo kết quả ngẫu nhiên có thể tái tạo được\n",
    "torch.manual_seed(2024)\n",
    "\n",
    "# Tạo tensor với các giá trị ngẫu nhiên trong khoảng [0, 1) với kích thước (3, 4)\n",
    "tensor_rand = torch.rand(3, 4)\n",
    "print(\"Tensor ngẫu nhiên trong khoảng [0, 1):\\n\", tensor_rand)\n",
    "\n",
    "# Tạo tensor với các giá trị ngẫu nhiên trong khoảng [-10, 10)\n",
    "tensor_randint = torch.randint(-10, 10, size=(3, 4))\n",
    "print(\"Tensor ngẫu nhiên trong khoảng [-10, 10):\\n\", tensor_randint)"
   ]
  },
  {
   "cell_type": "code",
   "execution_count": 23,
   "metadata": {},
   "outputs": [
    {
     "name": "stdout",
     "output_type": "stream",
     "text": [
      "Tensor ngẫu nhiên trong khoảng [0, 1):\n",
      " tf.Tensor(\n",
      "[[0.90034294 0.19453335 0.36069036 0.66361904]\n",
      " [0.76605344 0.2159369  0.6261736  0.07380784]\n",
      " [0.22062695 0.934368   0.93327904 0.69267046]], shape=(3, 4), dtype=float32)\n",
      "Tensor ngẫu nhiên trong khoảng [-10, 10):\n",
      " tf.Tensor(\n",
      "[[-3 -7  9  3]\n",
      " [ 2 -5 -3 -5]\n",
      " [ 4 -3 -3  5]], shape=(3, 4), dtype=int32)\n"
     ]
    }
   ],
   "source": [
    "# TensorFlow code\n",
    "# Đặt seed để đảm bảo kết quả ngẫu nhiên có thể tái tạo được\n",
    "tf.random.set_seed(2024)\n",
    "\n",
    "# Tạo tensor với các giá trị ngẫu nhiên trong khoảng [0, 1) với kích thước (3, 4)\n",
    "tensor_rand = tf.random.uniform((3, 4))\n",
    "print(\"Tensor ngẫu nhiên trong khoảng [0, 1):\\n\", tensor_rand)\n",
    "\n",
    "# Tạo tensor với các giá trị ngẫu nhiên trong khoảng [-10, 10)\n",
    "tensor_randint = tf.random.uniform((3, 4), -10, 10, dtype=tf.int32)\n",
    "print(\"Tensor ngẫu nhiên trong khoảng [-10, 10):\\n\", tensor_randint)"
   ]
  },
  {
   "cell_type": "markdown",
   "metadata": {},
   "source": [
    "## Numpy, Pytorch và Tensorflow Hàm Stack và Concatenate"
   ]
  },
  {
   "cell_type": "code",
   "execution_count": 24,
   "metadata": {},
   "outputs": [
    {
     "name": "stdout",
     "output_type": "stream",
     "text": [
      "Mảng sau khi nối:\n",
      " [1 2 3 4 5 6]\n"
     ]
    }
   ],
   "source": [
    "# numpy code\n",
    "# Tạo 2 mảng\n",
    "arr_1 = np.array([1, 2, 3])\n",
    "arr_2 = np.array([4, 5, 6])\n",
    "\n",
    "# Nối hai mảng tho trục ngang (axis = 0)\n",
    "arr_3 = np.hstack((arr_1, arr_2))\n",
    "\n",
    "# In kết quả\n",
    "print(\"Mảng sau khi nối:\\n\", arr_3)"
   ]
  },
  {
   "cell_type": "code",
   "execution_count": 25,
   "metadata": {},
   "outputs": [
    {
     "name": "stdout",
     "output_type": "stream",
     "text": [
      "Tensor sau khi nối:\n",
      " tensor([1, 2, 3, 4, 5, 6])\n"
     ]
    }
   ],
   "source": [
    "# PyTorch code\n",
    "# Tạo 2 tensor\n",
    "tensor_1 = torch.tensor([1, 2, 3])\n",
    "tensor_2 = torch.tensor([4, 5, 6])\n",
    "\n",
    "# Nối hai tensor tho trục ngang (axis = 0)\n",
    "tensor_3 = torch.hstack((tensor_1, tensor_2))\n",
    "\n",
    "# In kết quả\n",
    "print(\"Tensor sau khi nối:\\n\", tensor_3)"
   ]
  },
  {
   "cell_type": "code",
   "execution_count": 27,
   "metadata": {},
   "outputs": [
    {
     "name": "stdout",
     "output_type": "stream",
     "text": [
      "Tensor sau khi nối:\n",
      " tf.Tensor([1 2 3 4 5 6], shape=(6,), dtype=int32)\n"
     ]
    }
   ],
   "source": [
    "# TensorFlow code\n",
    "# Tạo 2 tensor\n",
    "tensor_1 = tf.constant([1, 2, 3])\n",
    "tensor_2 = tf.constant([4, 5, 6])\n",
    "\n",
    "# Nối hai tensor tho trục ngang (axis = 0)\n",
    "tensor_3 = tf.concat((tensor_1, tensor_2), axis=0)\n",
    "\n",
    "# In kết quả\n",
    "print(\"Tensor sau khi nối:\\n\", tensor_3)"
   ]
  },
  {
   "cell_type": "code",
   "execution_count": 28,
   "metadata": {},
   "outputs": [
    {
     "name": "stdout",
     "output_type": "stream",
     "text": [
      "Mảng sau khi nối:\n",
      " [[1 2 3]\n",
      " [4 5 6]]\n"
     ]
    }
   ],
   "source": [
    "# Numpy code\n",
    "# Tạo 2 mảng\n",
    "arr_1 = np.array([1, 2, 3])\n",
    "arr_2 = np.array([4, 5, 6])\n",
    "\n",
    "# Nối hai mảng theo trục dọc (axis = 1)\n",
    "arr_3 = np.vstack((arr_1, arr_2))\n",
    "\n",
    "# In kết quả\n",
    "print(\"Mảng sau khi nối:\\n\", arr_3)"
   ]
  },
  {
   "cell_type": "code",
   "execution_count": 29,
   "metadata": {},
   "outputs": [
    {
     "name": "stdout",
     "output_type": "stream",
     "text": [
      "Tensor sau khi nối:\n",
      " tensor([[1, 2, 3],\n",
      "        [4, 5, 6]])\n"
     ]
    }
   ],
   "source": [
    "# PyTorch code\n",
    "# Tạo 2 tensor\n",
    "tensor_1 = torch.tensor([1, 2, 3])\n",
    "tensor_2 = torch.tensor([4, 5, 6])\n",
    "\n",
    "# Nối hai tensor theo trục dọc (axis = 1)\n",
    "tensor_3 = torch.vstack((tensor_1, tensor_2))\n",
    "\n",
    "# In kết quả\n",
    "print(\"Tensor sau khi nối:\\n\", tensor_3)"
   ]
  },
  {
   "cell_type": "markdown",
   "metadata": {},
   "source": [
    "### Concanate"
   ]
  },
  {
   "cell_type": "code",
   "execution_count": 30,
   "metadata": {},
   "outputs": [
    {
     "name": "stdout",
     "output_type": "stream",
     "text": [
      "Mảng sau khi nối theo trục dọc:\n",
      " [[ 1  2  3]\n",
      " [ 4  5  6]\n",
      " [ 7  8  9]\n",
      " [10 11 12]]\n",
      "Mảng sau khi nối theo trục ngang:\n",
      " [[ 1  2  3  7  8  9]\n",
      " [ 4  5  6 10 11 12]]\n"
     ]
    }
   ],
   "source": [
    "# Numpy code\n",
    "# Tạo mảng 2 chiều\n",
    "arr_1 = np.array([[1, 2, 3], [4, 5, 6]])\n",
    "arr_2 = np.array([[7, 8, 9], [10, 11, 12]])\n",
    "\n",
    "# Nối hai mảng theo trục dọc (axis = 0)\n",
    "arr_3 = np.concatenate((arr_1, arr_2), axis=0)\n",
    "\n",
    "# Nối hai mảng theo trục ngang (axis = 1)\n",
    "arr_4 = np.concatenate((arr_1, arr_2), axis=1)\n",
    "\n",
    "# In kết quả\n",
    "print(\"Mảng sau khi nối theo trục dọc:\\n\", arr_3)\n",
    "print(\"Mảng sau khi nối theo trục ngang:\\n\", arr_4)\n"
   ]
  },
  {
   "cell_type": "code",
   "execution_count": 31,
   "metadata": {},
   "outputs": [
    {
     "name": "stdout",
     "output_type": "stream",
     "text": [
      "Tensor sau khi nối theo trục dọc:\n",
      " tensor([[ 1,  2,  3],\n",
      "        [ 4,  5,  6],\n",
      "        [ 7,  8,  9],\n",
      "        [10, 11, 12]])\n",
      "Tensor sau khi nối theo trục ngang:\n",
      " tensor([[ 1,  2,  3,  7,  8,  9],\n",
      "        [ 4,  5,  6, 10, 11, 12]])\n"
     ]
    }
   ],
   "source": [
    "# PyTorch code\n",
    "# Tạo tensor 2 chiều\n",
    "tensor_1 = torch.tensor([[1, 2, 3], [4, 5, 6]])\n",
    "tensor_2 = torch.tensor([[7, 8, 9], [10, 11, 12]])\n",
    "\n",
    "# Nối hai tensor theo trục dọc (axis = 0)\n",
    "tensor_3 = torch.cat((tensor_1, tensor_2), dim=0)\n",
    "\n",
    "# Nối hai tensor theo trục ngang (axis = 1)\n",
    "tensor_4 = torch.cat((tensor_1, tensor_2), dim=1)\n",
    "\n",
    "# In kết quả\n",
    "print(\"Tensor sau khi nối theo trục dọc:\\n\", tensor_3)\n",
    "print(\"Tensor sau khi nối theo trục ngang:\\n\", tensor_4)"
   ]
  },
  {
   "cell_type": "code",
   "execution_count": 32,
   "metadata": {},
   "outputs": [
    {
     "name": "stdout",
     "output_type": "stream",
     "text": [
      "Tensor sau khi nối theo trục dọc:\n",
      " tf.Tensor(\n",
      "[[ 1  2  3]\n",
      " [ 4  5  6]\n",
      " [ 7  8  9]\n",
      " [10 11 12]], shape=(4, 3), dtype=int32)\n",
      "Tensor sau khi nối theo trục ngang:\n",
      " tf.Tensor(\n",
      "[[ 1  2  3  7  8  9]\n",
      " [ 4  5  6 10 11 12]], shape=(2, 6), dtype=int32)\n"
     ]
    }
   ],
   "source": [
    "# TensorFlow code\n",
    "# Tạo tensor 2 chiều\n",
    "tensor_1 = tf.constant([[1, 2, 3], [4, 5, 6]])\n",
    "tensor_2 = tf.constant([[7, 8, 9], [10, 11, 12]])\n",
    "\n",
    "# Nối hai tensor theo trục dọc (axis = 0)\n",
    "tensor_3 = tf.concat((tensor_1, tensor_2), axis=0)\n",
    "\n",
    "# Nối hai tensor theo trục ngang (axis = 1)\n",
    "tensor_4 = tf.concat((tensor_1, tensor_2), axis=1)\n",
    "\n",
    "# In kết quả\n",
    "print(\"Tensor sau khi nối theo trục dọc:\\n\", tensor_3)\n",
    "print(\"Tensor sau khi nối theo trục ngang:\\n\", tensor_4)"
   ]
  },
  {
   "cell_type": "markdown",
   "metadata": {},
   "source": [
    "## Các Hàm Quan Trọng Trong Numpy, Pytorch, Tensorflow - Phần 2"
   ]
  },
  {
   "cell_type": "code",
   "execution_count": 33,
   "metadata": {},
   "outputs": [
    {
     "name": "stdout",
     "output_type": "stream",
     "text": [
      "Mảng 1 chiều:\n",
      " [1 2 3]\n",
      "Mảng 2 chiều:\n",
      " [[1 2 3]]\n",
      "Mảng 5 chiều:\n",
      " [[[[[1]\n",
      "    [2]\n",
      "    [3]]]]]\n"
     ]
    }
   ],
   "source": [
    "# Create an aray 1D 1, 2, 3\n",
    "arr_1D = np.array([1, 2, 3])\n",
    "# 1D to 2D\n",
    "arr_2D = arr_1D[np.newaxis, :]\n",
    "# 2D to 5D\n",
    "arr_5D = arr_2D[np.newaxis, :, np.newaxis, :, np.newaxis]\n",
    "# print result\n",
    "print(\"Mảng 1 chiều:\\n\", arr_1D)\n",
    "print(\"Mảng 2 chiều:\\n\", arr_2D)\n",
    "print(\"Mảng 5 chiều:\\n\", arr_5D)"
   ]
  },
  {
   "cell_type": "code",
   "execution_count": 34,
   "metadata": {},
   "outputs": [
    {
     "name": "stdout",
     "output_type": "stream",
     "text": [
      "Tensor 1 chiều:\n",
      " tensor([1, 2, 3])\n",
      "Tensor 2 chiều:\n",
      " tensor([[1, 2, 3]])\n",
      "Tensor 5 chiều:\n",
      " tensor([[[[[1],\n",
      "           [2],\n",
      "           [3]]]]])\n"
     ]
    }
   ],
   "source": [
    "# expand_dims in PyTorch\n",
    "# Create a tensor 1D 1, 2, 3\n",
    "tensor_1D = torch.tensor([1, 2, 3])\n",
    "# 1D to 2D\n",
    "tensor_2D = tensor_1D[None, :]\n",
    "# 2D to 5D\n",
    "tensor_5D = tensor_2D[None, :, None, :, None]\n",
    "# print result\n",
    "print(\"Tensor 1 chiều:\\n\", tensor_1D)\n",
    "print(\"Tensor 2 chiều:\\n\", tensor_2D)\n",
    "print(\"Tensor 5 chiều:\\n\", tensor_5D)"
   ]
  },
  {
   "cell_type": "code",
   "execution_count": 35,
   "metadata": {},
   "outputs": [
    {
     "name": "stdout",
     "output_type": "stream",
     "text": [
      "Tensor 1 chiều:\n",
      " tf.Tensor([1 2 3], shape=(3,), dtype=int32)\n",
      "Tensor 2 chiều:\n",
      " tf.Tensor([[1 2 3]], shape=(1, 3), dtype=int32)\n",
      "Tensor 5 chiều:\n",
      " tf.Tensor(\n",
      "[[[[[1]\n",
      "    [2]\n",
      "    [3]]]]], shape=(1, 1, 1, 3, 1), dtype=int32)\n"
     ]
    }
   ],
   "source": [
    "# expand_dims in TensorFlow\n",
    "# Create a tensor 1D 1, 2, 3\n",
    "tensor_1D = tf.constant([1, 2, 3])\n",
    "# 1D to 2D\n",
    "tensor_2D = tf.expand_dims(tensor_1D, axis=0)\n",
    "# 2D to 5D\n",
    "tensor_5D = tensor_2D[tf.newaxis, :, tf.newaxis, :, tf.newaxis]\n",
    "# print result\n",
    "print(\"Tensor 1 chiều:\\n\", tensor_1D)\n",
    "print(\"Tensor 2 chiều:\\n\", tensor_2D)  \n",
    "print(\"Tensor 5 chiều:\\n\", tensor_5D)"
   ]
  },
  {
   "cell_type": "markdown",
   "metadata": {},
   "source": [
    "### reshape"
   ]
  },
  {
   "cell_type": "code",
   "execution_count": 36,
   "metadata": {},
   "outputs": [
    {
     "name": "stdout",
     "output_type": "stream",
     "text": [
      "Mảng 2 chiều:\n",
      " [[1 2 3]\n",
      " [4 5 6]]\n",
      "Mảng 1 chiều:\n",
      " [1 2 3 4 5 6]\n"
     ]
    }
   ],
   "source": [
    "# numpy code\n",
    "# Create an array 2D\n",
    "arr_2D = np.array([[1, 2, 3], [4, 5, 6]])\n",
    "# 2D to 1D\n",
    "arr_1D = np.reshape(arr_2D, newshape=(6,))\n",
    "\n",
    "# print result\n",
    "print(\"Mảng 2 chiều:\\n\", arr_2D)\n",
    "print(\"Mảng 1 chiều:\\n\", arr_1D)\n"
   ]
  },
  {
   "cell_type": "code",
   "execution_count": 37,
   "metadata": {},
   "outputs": [
    {
     "name": "stdout",
     "output_type": "stream",
     "text": [
      "Mảng 1 chiều:\n",
      " [2 3 5 7]\n",
      "Mảng 2 chiều:\n",
      " [[2 3 5 7]]\n",
      "Mảng 5 chiều:\n",
      " [[[[[2]]\n",
      "\n",
      "   [[3]]\n",
      "\n",
      "   [[5]]\n",
      "\n",
      "   [[7]]]]]\n"
     ]
    }
   ],
   "source": [
    "## E1: create array [2, 3, 5, 7]. add new dimension at axis 0, then add dimension at axis 1, 3, 4\n",
    "# numpy code\n",
    "# Create an array 1D\n",
    "arr_1D = np.array([2, 3, 5, 7])\n",
    "# 1D to 2D\n",
    "arr_2D = arr_1D[np.newaxis, :]\n",
    "# 2D to 5D\n",
    "arr_5D = arr_2D[:, np.newaxis, :, np.newaxis, np.newaxis]\n",
    "# print result\n",
    "print(\"Mảng 1 chiều:\\n\", arr_1D)\n",
    "print(\"Mảng 2 chiều:\\n\", arr_2D)\n",
    "print(\"Mảng 5 chiều:\\n\", arr_5D)"
   ]
  },
  {
   "cell_type": "code",
   "execution_count": 38,
   "metadata": {},
   "outputs": [
    {
     "name": "stdout",
     "output_type": "stream",
     "text": [
      "Tensor 1 chiều:\n",
      " tensor([2, 3, 5, 7])\n",
      "Tensor 2 chiều:\n",
      " tensor([[2, 3, 5, 7]])\n",
      "Tensor 5 chiều:\n",
      " tensor([[[[[2]],\n",
      "\n",
      "          [[3]],\n",
      "\n",
      "          [[5]],\n",
      "\n",
      "          [[7]]]]])\n"
     ]
    }
   ],
   "source": [
    "# PyTorch code\n",
    "# Create a tensor 1D\n",
    "tensor_1D = torch.tensor([2, 3, 5, 7])\n",
    "# 1D to 2D\n",
    "tensor_2D = tensor_1D[None, :]\n",
    "# 2D to 5D\n",
    "tensor_5D = tensor_2D[:, None, :, None, None]\n",
    "# print result\n",
    "print(\"Tensor 1 chiều:\\n\", tensor_1D)\n",
    "print(\"Tensor 2 chiều:\\n\", tensor_2D)\n",
    "print(\"Tensor 5 chiều:\\n\", tensor_5D)"
   ]
  },
  {
   "cell_type": "code",
   "execution_count": 39,
   "metadata": {},
   "outputs": [
    {
     "name": "stdout",
     "output_type": "stream",
     "text": [
      "Tensor 1 chiều:\n",
      " tf.Tensor([2 3 5 7], shape=(4,), dtype=int32)\n",
      "Tensor 2 chiều:\n",
      " tf.Tensor([[2 3 5 7]], shape=(1, 4), dtype=int32)\n",
      "Tensor 5 chiều:\n",
      " tf.Tensor([[[[[[2 3 5 7]]]]]], shape=(1, 1, 1, 1, 1, 4), dtype=int32)\n"
     ]
    }
   ],
   "source": [
    "# TensorFlow code\n",
    "# Create a tensor 1D\n",
    "tensor_1D = tf.constant([2, 3, 5, 7])\n",
    "# 1D to 2D\n",
    "tensor_2D = tf.expand_dims(tensor_1D, axis=0)\n",
    "# 2D to 5D\n",
    "tensor_5D = tensor_2D[tf.newaxis, :, tf.newaxis, tf.newaxis, tf.newaxis]\n",
    "# print result\n",
    "print(\"Tensor 1 chiều:\\n\", tensor_1D)\n",
    "print(\"Tensor 2 chiều:\\n\", tensor_2D)\n",
    "print(\"Tensor 5 chiều:\\n\", tensor_5D)"
   ]
  },
  {
   "cell_type": "code",
   "execution_count": 40,
   "metadata": {},
   "outputs": [
    {
     "name": "stdout",
     "output_type": "stream",
     "text": [
      "Mảng 3 chiều:\n",
      " [[[ 1  2  3]\n",
      "  [ 4  5  6]]\n",
      "\n",
      " [[ 7  8  9]\n",
      "  [10 11 12]]\n",
      "\n",
      " [[13 14 15]\n",
      "  [16 17 18]]]\n",
      "Mảng sau khi reshape:\n",
      " [[ 1  2  3  4  5  6]\n",
      " [ 7  8  9 10 11 12]\n",
      " [13 14 15 16 17 18]]\n"
     ]
    }
   ],
   "source": [
    "## Ex2: create 3D array [[[1, 2, 3], [4, 5, 6]], [[7, 8, 9], [10, 11, 12]], [[13, 14, 15], [16, 17, 18]]].\n",
    "# Then reshape to shape (3, 6)\n",
    "# numpy code\n",
    "# Create an array 3D\n",
    "arr_3D = np.array([[[1, 2, 3], [4, 5, 6]], [[7, 8, 9], [10, 11, 12]], [[13, 14, 15], [16, 17, 18]]])\n",
    "# Reshape to shape (3, 6)\n",
    "arr_reshape = np.reshape(arr_3D, newshape=(3, 6))\n",
    "# print result\n",
    "print(\"Mảng 3 chiều:\\n\", arr_3D)\n",
    "print(\"Mảng sau khi reshape:\\n\", arr_reshape)"
   ]
  },
  {
   "cell_type": "code",
   "execution_count": 41,
   "metadata": {},
   "outputs": [
    {
     "name": "stdout",
     "output_type": "stream",
     "text": [
      "Tensor 3 chiều:\n",
      " tensor([[[ 1,  2,  3],\n",
      "         [ 4,  5,  6]],\n",
      "\n",
      "        [[ 7,  8,  9],\n",
      "         [10, 11, 12]],\n",
      "\n",
      "        [[13, 14, 15],\n",
      "         [16, 17, 18]]])\n",
      "Tensor sau khi reshape:\n",
      " tensor([[ 1,  2,  3,  4,  5,  6],\n",
      "        [ 7,  8,  9, 10, 11, 12],\n",
      "        [13, 14, 15, 16, 17, 18]])\n"
     ]
    }
   ],
   "source": [
    "# PyTorch code\n",
    "# Create a tensor 3D\n",
    "tensor_3D = torch.tensor([[[1, 2, 3], [4, 5, 6]], [[7, 8, 9], [10, 11, 12]], [[13, 14, 15], [16, 17, 18]]])\n",
    "# Reshape to shape (3, 6)\n",
    "tensor_reshape = torch.reshape(tensor_3D, (3, 6))\n",
    "# print result\n",
    "print(\"Tensor 3 chiều:\\n\", tensor_3D)\n",
    "print(\"Tensor sau khi reshape:\\n\", tensor_reshape)"
   ]
  },
  {
   "cell_type": "code",
   "execution_count": 42,
   "metadata": {},
   "outputs": [
    {
     "name": "stdout",
     "output_type": "stream",
     "text": [
      "Tensor 3 chiều:\n",
      " tf.Tensor(\n",
      "[[[ 1  2  3]\n",
      "  [ 4  5  6]]\n",
      "\n",
      " [[ 7  8  9]\n",
      "  [10 11 12]]\n",
      "\n",
      " [[13 14 15]\n",
      "  [16 17 18]]], shape=(3, 2, 3), dtype=int32)\n",
      "Tensor sau khi reshape:\n",
      " tf.Tensor(\n",
      "[[ 1  2  3  4  5  6]\n",
      " [ 7  8  9 10 11 12]\n",
      " [13 14 15 16 17 18]], shape=(3, 6), dtype=int32)\n"
     ]
    }
   ],
   "source": [
    "# TensorFlow code\n",
    "# Create a tensor 3D\n",
    "tensor_3D = tf.constant([[[1, 2, 3], [4, 5, 6]], [[7, 8, 9], [10, 11, 12]], [[13, 14, 15], [16, 17, 18]]])\n",
    "# Reshape to shape (3, 6)\n",
    "tensor_reshape = tf.reshape(tensor_3D, (3, 6))\n",
    "# print result\n",
    "print(\"Tensor 3 chiều:\\n\", tensor_3D)\n",
    "print(\"Tensor sau khi reshape:\\n\", tensor_reshape)"
   ]
  },
  {
   "cell_type": "markdown",
   "metadata": {},
   "source": [
    "## Các Hàm Quan Trọng Trong Numpy, Pytorch, Tensorflow - Phần 3"
   ]
  },
  {
   "cell_type": "markdown",
   "metadata": {},
   "source": [
    "### function clip"
   ]
  },
  {
   "cell_type": "code",
   "execution_count": 43,
   "metadata": {},
   "outputs": [
    {
     "name": "stdout",
     "output_type": "stream",
     "text": [
      "Mảng ngẫu nhiên:\n",
      " [[ -2 -10 -10]\n",
      " [ -6  -1  -9]\n",
      " [ -7   0  -8]]\n",
      "Mảng sau khi cắt:\n",
      " [[3 3 3]\n",
      " [3 3 3]\n",
      " [3 3 3]]\n"
     ]
    }
   ],
   "source": [
    "np.random.seed(2024)\n",
    "\n",
    "arr_rand = np.random.randint(-10, 10, (3, 3))\n",
    "print(\"Mảng ngẫu nhiên:\\n\", arr_rand)\n",
    "\n",
    "arr_clip = np.clip(arr_rand, a_min=3, a_max=8)\n",
    "print(\"Mảng sau khi cắt:\\n\", arr_clip)\n"
   ]
  },
  {
   "cell_type": "code",
   "execution_count": 44,
   "metadata": {},
   "outputs": [
    {
     "name": "stdout",
     "output_type": "stream",
     "text": [
      "Tensor ngẫu nhiên:\n",
      " tensor([[  2,   0,  -6],\n",
      "        [-10,  -7, -10],\n",
      "        [  0,   1,   3]])\n",
      "Tensor sau khi cắt:\n",
      " tensor([[3, 3, 3],\n",
      "        [3, 3, 3],\n",
      "        [3, 3, 3]])\n"
     ]
    }
   ],
   "source": [
    "# PyTorch code\n",
    "torch.manual_seed(2024)\n",
    "\n",
    "tensor_rand = torch.randint(-10, 10, (3, 3))\n",
    "print(\"Tensor ngẫu nhiên:\\n\", tensor_rand)\n",
    "\n",
    "tensor_clip = torch.clamp(tensor_rand, min=3, max=8)\n",
    "print(\"Tensor sau khi cắt:\\n\", tensor_clip)"
   ]
  },
  {
   "cell_type": "code",
   "execution_count": 45,
   "metadata": {},
   "outputs": [
    {
     "name": "stdout",
     "output_type": "stream",
     "text": [
      "Tensor ngẫu nhiên:\n",
      " tf.Tensor(\n",
      "[[-6 -2  0]\n",
      " [-2  4  4]\n",
      " [-9  3  7]], shape=(3, 3), dtype=int32)\n",
      "Tensor sau khi cắt:\n",
      " tf.Tensor(\n",
      "[[3 3 3]\n",
      " [3 4 4]\n",
      " [3 3 7]], shape=(3, 3), dtype=int32)\n"
     ]
    }
   ],
   "source": [
    "# TensorFlow code\n",
    "tf.random.set_seed(2024)\n",
    "\n",
    "tensor_rand = tf.random.uniform((3, 3), -10, 10, dtype=tf.int32)\n",
    "print(\"Tensor ngẫu nhiên:\\n\", tensor_rand)\n",
    "\n",
    "tensor_clip = tf.clip_by_value(tensor_rand, clip_value_min=3, clip_value_max=8)\n",
    "print(\"Tensor sau khi cắt:\\n\", tensor_clip)"
   ]
  },
  {
   "cell_type": "code",
   "execution_count": 46,
   "metadata": {},
   "outputs": [
    {
     "name": "stdout",
     "output_type": "stream",
     "text": [
      "Mảng ngẫu nhiên:\n",
      " [[ 3  5 -5]\n",
      " [-5  6 -1]\n",
      " [ 9  2  4]\n",
      " [-4  7 -2]]\n",
      "Mảng sau khi cắt:\n",
      " [[ 0  0 -2]\n",
      " [-2  0 -1]\n",
      " [ 0  0  0]\n",
      " [-2  0 -2]]\n"
     ]
    }
   ],
   "source": [
    "## Ex1: create array in range [-5, 10) with size (4, 3). Then clip values in range [-2, 0]. seed = 2024\n",
    "# numpy code\n",
    "np.random.seed(2024)\n",
    "\n",
    "arr_rand = np.random.randint(-5, 10, (4, 3))\n",
    "print(\"Mảng ngẫu nhiên:\\n\", arr_rand)\n",
    "\n",
    "arr_clip = np.clip(arr_rand, a_min=-2, a_max=0)\n",
    "print(\"Mảng sau khi cắt:\\n\", arr_clip)"
   ]
  },
  {
   "cell_type": "code",
   "execution_count": 47,
   "metadata": {},
   "outputs": [
    {
     "name": "stdout",
     "output_type": "stream",
     "text": [
      "Tensor ngẫu nhiên:\n",
      " tensor([[-3,  0, -1],\n",
      "        [ 0, -2,  0],\n",
      "        [ 5,  6,  3],\n",
      "        [ 4, -3, -1]])\n",
      "Tensor sau khi cắt:\n",
      " tensor([[-2,  0, -1],\n",
      "        [ 0, -2,  0],\n",
      "        [ 0,  0,  0],\n",
      "        [ 0, -2, -1]])\n"
     ]
    }
   ],
   "source": [
    "# PyTorch code\n",
    "torch.manual_seed(2024)\n",
    "\n",
    "tensor_rand = torch.randint(-5, 10, (4, 3))\n",
    "print(\"Tensor ngẫu nhiên:\\n\", tensor_rand)\n",
    "\n",
    "tensor_clip = torch.clamp(tensor_rand, min=-2, max=0)\n",
    "print(\"Tensor sau khi cắt:\\n\", tensor_clip)"
   ]
  },
  {
   "cell_type": "code",
   "execution_count": 48,
   "metadata": {},
   "outputs": [
    {
     "name": "stdout",
     "output_type": "stream",
     "text": [
      "Tensor ngẫu nhiên:\n",
      " tf.Tensor(\n",
      "[[ 4  3  0]\n",
      " [ 3  9  9]\n",
      " [-4 -2  2]\n",
      " [ 6  2  0]], shape=(4, 3), dtype=int32)\n",
      "Tensor sau khi cắt:\n",
      " tf.Tensor(\n",
      "[[ 0  0  0]\n",
      " [ 0  0  0]\n",
      " [-2 -2  0]\n",
      " [ 0  0  0]], shape=(4, 3), dtype=int32)\n"
     ]
    }
   ],
   "source": [
    "# TensorFlow code\n",
    "tf.random.set_seed(2024)\n",
    "\n",
    "tensor_rand = tf.random.uniform((4, 3), -5, 10, dtype=tf.int32)\n",
    "print(\"Tensor ngẫu nhiên:\\n\", tensor_rand)\n",
    "\n",
    "tensor_clip = tf.clip_by_value(tensor_rand, clip_value_min=-2, clip_value_max=0)\n",
    "print(\"Tensor sau khi cắt:\\n\", tensor_clip)"
   ]
  },
  {
   "cell_type": "markdown",
   "metadata": {},
   "source": [
    "## Indexing Trong Numpy, Pytorch và Tensorflow - Phần 1"
   ]
  },
  {
   "cell_type": "code",
   "execution_count": 49,
   "metadata": {},
   "outputs": [
    {
     "name": "stdout",
     "output_type": "stream",
     "text": [
      "Sliced array 1:\n",
      "[[2]]\n",
      "Sliced array 2:\n",
      "[2]\n",
      "Sliced array 3:\n",
      "2\n",
      "Sliced array 4:\n",
      "[[1 2 3]\n",
      " [4 5 6]]\n"
     ]
    }
   ],
   "source": [
    "array_2d = np.array([[1, 2, 3], [4, 5, 6]])\n",
    "# slicing \n",
    "sliced_array_1 = array_2d[0:1, 1:2]\n",
    "print(f\"Sliced array 1:\\n{sliced_array_1}\")\n",
    "# decrease dimension\n",
    "sliced_array_2 = array_2d[0, 1:2]\n",
    "print(f\"Sliced array 2:\\n{sliced_array_2}\")\n",
    "# decrease dimension\n",
    "sliced_array_3 = array_2d[0, 1]\n",
    "print(f\"Sliced array 3:\\n{sliced_array_3}\")\n",
    "# take all values\n",
    "sliced_array_4 = array_2d[:, :]\n",
    "print(f\"Sliced array 4:\\n{sliced_array_4}\")"
   ]
  },
  {
   "cell_type": "code",
   "execution_count": 50,
   "metadata": {},
   "outputs": [
    {
     "name": "stdout",
     "output_type": "stream",
     "text": [
      "Sliced tensor 1:\n",
      "tensor([[2]])\n",
      "Sliced tensor 2:\n",
      "tensor([2])\n",
      "Sliced tensor 3:\n",
      "2\n",
      "Sliced tensor 4:\n",
      "tensor([[1, 2, 3],\n",
      "        [4, 5, 6]])\n"
     ]
    }
   ],
   "source": [
    "# PyTorch code\n",
    "tensor_2d = torch.tensor([[1, 2, 3], [4, 5, 6]])\n",
    "# slicing\n",
    "sliced_tensor_1 = tensor_2d[0:1, 1:2]\n",
    "print(f\"Sliced tensor 1:\\n{sliced_tensor_1}\")\n",
    "# decrease dimension\n",
    "sliced_tensor_2 = tensor_2d[0, 1:2]\n",
    "print(f\"Sliced tensor 2:\\n{sliced_tensor_2}\")\n",
    "# decrease dimension\n",
    "sliced_tensor_3 = tensor_2d[0, 1]\n",
    "print(f\"Sliced tensor 3:\\n{sliced_tensor_3}\")\n",
    "# take all values\n",
    "sliced_tensor_4 = tensor_2d[:, :]\n",
    "print(f\"Sliced tensor 4:\\n{sliced_tensor_4}\")"
   ]
  },
  {
   "cell_type": "code",
   "execution_count": 51,
   "metadata": {},
   "outputs": [
    {
     "name": "stdout",
     "output_type": "stream",
     "text": [
      "Sliced tensor 1:\n",
      "[[2]]\n",
      "Sliced tensor 2:\n",
      "[2]\n",
      "Sliced tensor 3:\n",
      "2\n",
      "Sliced tensor 4:\n",
      "[[1 2 3]\n",
      " [4 5 6]]\n"
     ]
    }
   ],
   "source": [
    "# TensorFlow code\n",
    "tensor_2d = tf.constant([[1, 2, 3], [4, 5, 6]])\n",
    "# slicing\n",
    "sliced_tensor_1 = tensor_2d[0:1, 1:2]\n",
    "print(f\"Sliced tensor 1:\\n{sliced_tensor_1}\")\n",
    "# decrease dimension\n",
    "sliced_tensor_2 = tensor_2d[0, 1:2]\n",
    "print(f\"Sliced tensor 2:\\n{sliced_tensor_2}\")\n",
    "# decrease dimension\n",
    "sliced_tensor_3 = tensor_2d[0, 1]\n",
    "print(f\"Sliced tensor 3:\\n{sliced_tensor_3}\")\n",
    "# take all values\n",
    "sliced_tensor_4 = tensor_2d[:, :]\n",
    "print(f\"Sliced tensor 4:\\n{sliced_tensor_4}\")"
   ]
  },
  {
   "cell_type": "code",
   "execution_count": 57,
   "metadata": {},
   "outputs": [
    {
     "name": "stdout",
     "output_type": "stream",
     "text": [
      "Mảng 3 chiều:\n",
      " [[[ 1  2  3]\n",
      "  [ 4  5  6]]\n",
      "\n",
      " [[ 7  8  9]\n",
      "  [10 11 12]]\n",
      "\n",
      " [[13 14 15]\n",
      "  [16 17 18]]]\n",
      "Mảng sau khi cắt:\n",
      " [ 2  8 14]\n"
     ]
    }
   ],
   "source": [
    "## Ex1: create array of size (3, 2, 3) with values from 1 to 18.\n",
    "## using slicing to take index (0,1) of array 2D and keep the dimension\n",
    "# numpy code\n",
    "# Create an array 3D\n",
    "arr_3D = np.arange(1, 19).reshape(3, 2, 3)\n",
    "# Slicing\n",
    "sliced_arr = arr_3D[:, 0, 1]\n",
    "# print result\n",
    "print(\"Mảng 3 chiều:\\n\", arr_3D)\n",
    "print(\"Mảng sau khi cắt:\\n\", sliced_arr)"
   ]
  },
  {
   "cell_type": "code",
   "execution_count": 59,
   "metadata": {},
   "outputs": [
    {
     "name": "stdout",
     "output_type": "stream",
     "text": [
      "Tensor 3 chiều:\n",
      " tensor([[[ 1,  2,  3],\n",
      "         [ 4,  5,  6]],\n",
      "\n",
      "        [[ 7,  8,  9],\n",
      "         [10, 11, 12]],\n",
      "\n",
      "        [[13, 14, 15],\n",
      "         [16, 17, 18]]])\n",
      "Tensor sau khi cắt:\n",
      " tensor([ 2,  8, 14])\n"
     ]
    }
   ],
   "source": [
    "# PyTorch code\n",
    "# Create a tensor 3D\n",
    "tensor_3D = torch.arange(1, 19).reshape(3, 2, 3)\n",
    "# Slicing\n",
    "sliced_tensor = tensor_3D[:, 0, 1]\n",
    "# print result\n",
    "print(\"Tensor 3 chiều:\\n\", tensor_3D)\n",
    "print(\"Tensor sau khi cắt:\\n\", sliced_tensor)"
   ]
  },
  {
   "cell_type": "code",
   "execution_count": 60,
   "metadata": {},
   "outputs": [
    {
     "name": "stdout",
     "output_type": "stream",
     "text": [
      "Tensor 3 chiều:\n",
      " tf.Tensor(\n",
      "[[[ 1  2  3]\n",
      "  [ 4  5  6]]\n",
      "\n",
      " [[ 7  8  9]\n",
      "  [10 11 12]]\n",
      "\n",
      " [[13 14 15]\n",
      "  [16 17 18]]], shape=(3, 2, 3), dtype=int32)\n",
      "Tensor sau khi cắt:\n",
      " tf.Tensor([ 2  8 14], shape=(3,), dtype=int32)\n"
     ]
    }
   ],
   "source": [
    "# TensorFlow code\n",
    "# Create a tensor 3D\n",
    "tensor_3D = tf.range(1, 19, dtype=tf.int32)\n",
    "tensor_3D = tf.reshape(tensor_3D, (3, 2, 3))\n",
    "# Slicing\n",
    "sliced_tensor = tensor_3D[:, 0, 1]\n",
    "# print result\n",
    "print(\"Tensor 3 chiều:\\n\", tensor_3D)\n",
    "print(\"Tensor sau khi cắt:\\n\", sliced_tensor)"
   ]
  },
  {
   "cell_type": "markdown",
   "metadata": {},
   "source": [
    "## Indexing Trong Numpy, Pytorch và Tensorflow - Phần 2"
   ]
  },
  {
   "cell_type": "code",
   "execution_count": 61,
   "metadata": {},
   "outputs": [
    {
     "name": "stdout",
     "output_type": "stream",
     "text": [
      "Row 1 array 1:\n",
      "[4 5 6]\n",
      "Row 1 array 2:\n",
      "[[4 5 6]]\n",
      "Col 2 array 1:\n",
      "[3 6 9]\n",
      "Col 2 array 2:\n",
      "[[3]\n",
      " [6]\n",
      " [9]]\n"
     ]
    }
   ],
   "source": [
    "arr_2d = np.array([[1,2,3], [4,5,6], [7,8,9]])\n",
    "# get the second row by decreasing dimension\n",
    "row_1_arr_1 = arr_2d[1, :]\n",
    "print(f\"Row 1 array 1:\\n{row_1_arr_1}\")\n",
    "\n",
    "# get the second row by keeping dimension\n",
    "row_1_arr_2 = arr_2d[1:2, :]\n",
    "print(f\"Row 1 array 2:\\n{row_1_arr_2}\")\n",
    "\n",
    "# get the third col by decreasing dimension\n",
    "col_2_arr_1 = arr_2d[:, 2]\n",
    "print(f\"Col 2 array 1:\\n{col_2_arr_1}\")\n",
    "\n",
    "# get the third col by keeping dimension\n",
    "col_2_arr_2 = arr_2d[:, 2:3]\n",
    "print(f\"Col 2 array 2:\\n{col_2_arr_2}\")"
   ]
  },
  {
   "cell_type": "code",
   "execution_count": 63,
   "metadata": {},
   "outputs": [
    {
     "name": "stdout",
     "output_type": "stream",
     "text": [
      "Row 1 tensor 1:\n",
      "tensor([4, 5, 6])\n",
      "Row 1 tensor 2:\n",
      "tensor([[4, 5, 6]])\n",
      "Col 2 tensor 1:\n",
      "tensor([3, 6, 9])\n",
      "Col 2 tensor 2:\n",
      "tensor([[3],\n",
      "        [6],\n",
      "        [9]])\n"
     ]
    }
   ],
   "source": [
    "# PyTorch code\n",
    "tensor_2d = torch.tensor([[1,2,3], [4,5,6], [7,8,9]])\n",
    "# get the second row by decreasing dimension\n",
    "row_1_tensor_1 = tensor_2d[1, :]\n",
    "print(f\"Row 1 tensor 1:\\n{row_1_tensor_1}\")\n",
    "# get the second row by keeping dimension\n",
    "row_1_tensor_2 = tensor_2d[1:2, :]\n",
    "print(f\"Row 1 tensor 2:\\n{row_1_tensor_2}\")\n",
    "# get the third col by decreasing dimension\n",
    "col_2_tensor_1 = tensor_2d[:, 2]\n",
    "print(f\"Col 2 tensor 1:\\n{col_2_tensor_1}\")\n",
    "# get the third col by keeping dimension\n",
    "col_2_tensor_2 = tensor_2d[:, 2:3]\n",
    "print(f\"Col 2 tensor 2:\\n{col_2_tensor_2}\")"
   ]
  },
  {
   "cell_type": "code",
   "execution_count": 64,
   "metadata": {},
   "outputs": [
    {
     "name": "stdout",
     "output_type": "stream",
     "text": [
      "Row 1 tensor 1:\n",
      "[4 5 6]\n",
      "Row 1 tensor 2:\n",
      "[[4 5 6]]\n",
      "Col 2 tensor 1:\n",
      "[3 6 9]\n",
      "Col 2 tensor 2:\n",
      "[[3]\n",
      " [6]\n",
      " [9]]\n"
     ]
    }
   ],
   "source": [
    "# Tensorflow code\n",
    "tensor_2d = tf.constant([[1,2,3], [4,5,6], [7,8,9]])\n",
    "# get the second row by decreasing dimension\n",
    "row_1_tensor_1 = tensor_2d[1, :]\n",
    "print(f\"Row 1 tensor 1:\\n{row_1_tensor_1}\")\n",
    "# get the second row by keeping dimension\n",
    "row_1_tensor_2 = tensor_2d[1:2, :]\n",
    "print(f\"Row 1 tensor 2:\\n{row_1_tensor_2}\")\n",
    "# get the third col by decreasing dimension\n",
    "col_2_tensor_1 = tensor_2d[:, 2]\n",
    "print(f\"Col 2 tensor 1:\\n{col_2_tensor_1}\")\n",
    "# get the third col by keeping dimension\n",
    "col_2_tensor_2 = tensor_2d[:, 2:3]\n",
    "print(f\"Col 2 tensor 2:\\n{col_2_tensor_2}\")"
   ]
  },
  {
   "cell_type": "markdown",
   "metadata": {},
   "source": [
    "### Boolean indices"
   ]
  },
  {
   "cell_type": "code",
   "execution_count": 4,
   "metadata": {},
   "outputs": [
    {
     "name": "stdout",
     "output_type": "stream",
     "text": [
      "Original array: [[1 2 3]\n",
      " [4 5 6]\n",
      " [7 8 9]]\n",
      "Boolean mask: [[False False False]\n",
      " [False False  True]\n",
      " [ True  True  True]]\n",
      "Filtered result: [6 7 8 9]\n"
     ]
    }
   ],
   "source": [
    "array_2d = np.array([[1,2,3],[4,5,6],[7,8,9]])\n",
    "# mask\n",
    "boolean_mask = array_2d>5\n",
    "filtered_result = array_2d[boolean_mask]\n",
    "# print result\n",
    "print(f\"Original array: {array_2d}\")\n",
    "print(f\"Boolean mask: {boolean_mask}\")\n",
    "print(f\"Filtered result: {filtered_result}\")"
   ]
  },
  {
   "cell_type": "code",
   "execution_count": 5,
   "metadata": {},
   "outputs": [
    {
     "name": "stdout",
     "output_type": "stream",
     "text": [
      "Original tensor: tensor([[1, 2, 3],\n",
      "        [4, 5, 6],\n",
      "        [7, 8, 9]])\n",
      "Boolean mask: tensor([[False, False, False],\n",
      "        [False, False,  True],\n",
      "        [ True,  True,  True]])\n",
      "Filtered result: tensor([6, 7, 8, 9])\n"
     ]
    }
   ],
   "source": [
    "# PyTorch code\n",
    "tensor_2d = torch.tensor([[1,2,3],[4,5,6],[7,8,9]])\n",
    "# mask\n",
    "boolean_mask = tensor_2d>5\n",
    "filtered_result = tensor_2d[boolean_mask]\n",
    "# print result\n",
    "print(f\"Original tensor: {tensor_2d}\")\n",
    "print(f\"Boolean mask: {boolean_mask}\")\n",
    "print(f\"Filtered result: {filtered_result}\")\n"
   ]
  },
  {
   "cell_type": "code",
   "execution_count": 6,
   "metadata": {},
   "outputs": [
    {
     "name": "stdout",
     "output_type": "stream",
     "text": [
      "Original tensor: [[1 2 3]\n",
      " [4 5 6]\n",
      " [7 8 9]]\n",
      "Boolean mask: [[False False False]\n",
      " [False False  True]\n",
      " [ True  True  True]]\n",
      "Filtered result: [6 7 8 9]\n"
     ]
    }
   ],
   "source": [
    "# TensorFlow code\n",
    "tensor_2d = tf.constant([[1,2,3],[4,5,6],[7,8,9]])\n",
    "# mask\n",
    "boolean_mask = tensor_2d>5\n",
    "filtered_result = tf.boolean_mask(tensor_2d, boolean_mask)\n",
    "# print result\n",
    "print(f\"Original tensor: {tensor_2d}\")\n",
    "print(f\"Boolean mask: {boolean_mask}\")\n",
    "print(f\"Filtered result: {filtered_result}\")"
   ]
  },
  {
   "cell_type": "code",
   "execution_count": 7,
   "metadata": {},
   "outputs": [
    {
     "name": "stdout",
     "output_type": "stream",
     "text": [
      "Mảng 2 chiều:\n",
      " [[1 0 1]\n",
      " [0 1 0]\n",
      " [1 0 1]]\n",
      "Hàng thứ 2 cách 1:\n",
      " [0 1 0]\n",
      "Hàng thứ 2 cách 2:\n",
      " [[0 1 0]]\n",
      "Cột thứ 1 cách 1:\n",
      " [1 0 1]\n",
      "Cột thứ 1 cách 2:\n",
      " [[1]\n",
      " [0]\n",
      " [1]]\n"
     ]
    }
   ],
   "source": [
    "## Ex1: given 2D list [[1,0,1],[0,1,0],[1,0,1]]. Take second row (index=1) by 2 ways\n",
    "## Take first col (index=0) by 2 ways\n",
    "# numpy code\n",
    "# Create an array 2D\n",
    "arr_2D = np.array([[1,0,1],[0,1,0],[1,0,1]])\n",
    "# Take second row by decreasing dimension\n",
    "row_1_arr_1 = arr_2D[1, :]\n",
    "# Take second row by keeping dimension\n",
    "row_1_arr_2 = arr_2D[1:2, :]\n",
    "# Take first col by decreasing dimension\n",
    "col_0_arr_1 = arr_2D[:, 0]\n",
    "# Take first col by keeping dimension\n",
    "col_0_arr_2 = arr_2D[:, 0:1]\n",
    "# print result\n",
    "print(\"Mảng 2 chiều:\\n\", arr_2D)\n",
    "print(\"Hàng thứ 2 cách 1:\\n\", row_1_arr_1)\n",
    "print(\"Hàng thứ 2 cách 2:\\n\", row_1_arr_2)\n",
    "print(\"Cột thứ 1 cách 1:\\n\", col_0_arr_1)\n",
    "print(\"Cột thứ 1 cách 2:\\n\", col_0_arr_2)"
   ]
  },
  {
   "cell_type": "code",
   "execution_count": 8,
   "metadata": {},
   "outputs": [
    {
     "name": "stdout",
     "output_type": "stream",
     "text": [
      "Tensor 2 chiều:\n",
      " tensor([[1, 0, 1],\n",
      "        [0, 1, 0],\n",
      "        [1, 0, 1]])\n",
      "Hàng thứ 2 cách 1:\n",
      " tensor([0, 1, 0])\n",
      "Hàng thứ 2 cách 2:\n",
      " tensor([[0, 1, 0]])\n",
      "Cột thứ 1 cách 1:\n",
      " tensor([1, 0, 1])\n"
     ]
    }
   ],
   "source": [
    "# PyTorch code\n",
    "# Create a tensor 2D\n",
    "tensor_2D = torch.tensor([[1,0,1],[0,1,0],[1,0,1]])\n",
    "# Take second row by decreasing dimension\n",
    "row_1_tensor_1 = tensor_2D[1, :]\n",
    "# Take second row by keeping dimension\n",
    "row_1_tensor_2 = tensor_2D[1:2, :]\n",
    "# Take first col by decreasing dimension\n",
    "col_0_tensor_1 = tensor_2D[:, 0]\n",
    "# Take first col by keeping dimension\n",
    "col_0_tensor_2 = tensor_2D[:, 0:1]\n",
    "# print result\n",
    "print(\"Tensor 2 chiều:\\n\", tensor_2D)\n",
    "print(\"Hàng thứ 2 cách 1:\\n\", row_1_tensor_1)\n",
    "print(\"Hàng thứ 2 cách 2:\\n\", row_1_tensor_2)\n",
    "print(\"Cột thứ 1 cách 1:\\n\", col_0_tensor_1)"
   ]
  },
  {
   "cell_type": "code",
   "execution_count": 10,
   "metadata": {},
   "outputs": [
    {
     "name": "stdout",
     "output_type": "stream",
     "text": [
      "Tensor 2 chiều:\n",
      " tf.Tensor(\n",
      "[[1 0 1]\n",
      " [0 1 0]\n",
      " [1 0 1]], shape=(3, 3), dtype=int32)\n",
      "Hàng thứ 2 cách 1:\n",
      " tf.Tensor([0 1 0], shape=(3,), dtype=int32)\n",
      "Hàng thứ 2 cách 2:\n",
      " tf.Tensor([[0 1 0]], shape=(1, 3), dtype=int32)\n",
      "Cột thứ 1 cách 1:\n",
      " tf.Tensor([1 0 1], shape=(3,), dtype=int32)\n",
      "Cột thứ 1 cách 2:\n",
      " tf.Tensor(\n",
      "[[1]\n",
      " [0]\n",
      " [1]], shape=(3, 1), dtype=int32)\n"
     ]
    }
   ],
   "source": [
    "# TensorFlow code\n",
    "# Create a tensor 2D\n",
    "tensor_2D = tf.constant([[1,0,1],[0,1,0],[1,0,1]])\n",
    "# Take second row by decreasing dimension\n",
    "row_1_tensor_1 = tensor_2D[1, :]\n",
    "# Take second row by keeping dimension\n",
    "row_1_tensor_2 = tensor_2D[1:2, :]\n",
    "# Take first col by decreasing dimension\n",
    "col_0_tensor_1 = tensor_2D[:, 0]\n",
    "# Take first col by keeping dimension\n",
    "col_0_tensor_2 = tensor_2D[:, 0:1]\n",
    "# print result\n",
    "print(\"Tensor 2 chiều:\\n\", tensor_2D)\n",
    "print(\"Hàng thứ 2 cách 1:\\n\", row_1_tensor_1)\n",
    "print(\"Hàng thứ 2 cách 2:\\n\", row_1_tensor_2)\n",
    "print(\"Cột thứ 1 cách 1:\\n\", col_0_tensor_1)\n",
    "print(\"Cột thứ 1 cách 2:\\n\", col_0_tensor_2)"
   ]
  },
  {
   "cell_type": "code",
   "execution_count": 11,
   "metadata": {},
   "outputs": [
    {
     "name": "stdout",
     "output_type": "stream",
     "text": [
      "Mảng 2 chiều:\n",
      " [[ -2 -10 -10]\n",
      " [ -6  -1  -9]\n",
      " [ -7   0  -8]]\n",
      "Boolean mask:\n",
      " [[False False False]\n",
      " [False False False]\n",
      " [False False False]]\n",
      "Filtered result:\n",
      " []\n"
     ]
    }
   ],
   "source": [
    "## Ex2: given 2D array with random values in range [-10, 10) with size (3, 3).\n",
    "## use boolean mask to take value > 0. Seed = 2024\n",
    "# numpy code\n",
    "# Set seed\n",
    "np.random.seed(2024)\n",
    "# Create an array 2D\n",
    "arr_2D = np.random.randint(-10, 10, (3, 3))\n",
    "# Boolean mask\n",
    "boolean_mask = arr_2D > 0\n",
    "# Filtered result\n",
    "filtered_result = arr_2D[boolean_mask]\n",
    "# print result\n",
    "print(\"Mảng 2 chiều:\\n\", arr_2D)\n",
    "print(\"Boolean mask:\\n\", boolean_mask)\n",
    "print(\"Filtered result:\\n\", filtered_result)"
   ]
  },
  {
   "cell_type": "code",
   "execution_count": 12,
   "metadata": {},
   "outputs": [
    {
     "name": "stdout",
     "output_type": "stream",
     "text": [
      "Tensor 2 chiều:\n",
      " tensor([[  2,   0,  -6],\n",
      "        [-10,  -7, -10],\n",
      "        [  0,   1,   3]])\n",
      "Boolean mask:\n",
      " tensor([[ True, False, False],\n",
      "        [False, False, False],\n",
      "        [False,  True,  True]])\n",
      "Filtered result:\n",
      " tensor([2, 1, 3])\n"
     ]
    }
   ],
   "source": [
    "# PyTorch code\n",
    "# Set seed\n",
    "torch.manual_seed(2024)\n",
    "# Create a tensor 2D\n",
    "tensor_2D = torch.randint(-10, 10, (3, 3))\n",
    "# Boolean mask\n",
    "boolean_mask = tensor_2D > 0\n",
    "# Filtered result\n",
    "filtered_result = tensor_2D[boolean_mask]\n",
    "# print result\n",
    "print(\"Tensor 2 chiều:\\n\", tensor_2D)\n",
    "print(\"Boolean mask:\\n\", boolean_mask)\n",
    "print(\"Filtered result:\\n\", filtered_result)"
   ]
  },
  {
   "cell_type": "code",
   "execution_count": 13,
   "metadata": {},
   "outputs": [
    {
     "name": "stdout",
     "output_type": "stream",
     "text": [
      "Tensor 2 chiều:\n",
      " tf.Tensor(\n",
      "[[-6 -2  0]\n",
      " [-2  4  4]\n",
      " [-9  3  7]], shape=(3, 3), dtype=int32)\n",
      "Boolean mask:\n",
      " tf.Tensor(\n",
      "[[False False False]\n",
      " [False  True  True]\n",
      " [False  True  True]], shape=(3, 3), dtype=bool)\n",
      "Filtered result:\n",
      " tf.Tensor([4 4 3 7], shape=(4,), dtype=int32)\n"
     ]
    }
   ],
   "source": [
    "# TensorFlow code\n",
    "# Set seed\n",
    "tf.random.set_seed(2024)\n",
    "# Create a tensor 2D\n",
    "tensor_2D = tf.random.uniform((3, 3), -10, 10, dtype=tf.int32)\n",
    "# Boolean mask\n",
    "boolean_mask = tensor_2D > 0\n",
    "# Filtered result\n",
    "filtered_result = tf.boolean_mask(tensor_2D, boolean_mask)\n",
    "# print result\n",
    "print(\"Tensor 2 chiều:\\n\", tensor_2D)\n",
    "print(\"Boolean mask:\\n\", boolean_mask)\n",
    "print(\"Filtered result:\\n\", filtered_result)"
   ]
  },
  {
   "cell_type": "markdown",
   "metadata": {},
   "source": [
    "## Các Phép Tính Numpy, Pytorch và Tensorflow - Phần 1"
   ]
  },
  {
   "cell_type": "markdown",
   "metadata": {},
   "source": [
    "### Addition"
   ]
  },
  {
   "cell_type": "code",
   "execution_count": 20,
   "metadata": {},
   "outputs": [
    {
     "name": "stdout",
     "output_type": "stream",
     "text": [
      "Addition 1: [[ 2  1  6]\n",
      " [-1  5  6]\n",
      " [ 1 10  8]]\n",
      "Addition 2: [[ 2  1  6]\n",
      " [-1  5  6]\n",
      " [ 1 10  8]]\n"
     ]
    }
   ],
   "source": [
    "arr_1 = np.array([[1,-2,1],[-3,1,0],[-2,5,1]])\n",
    "arr_2 = np.array([[1,3,5],[2,4,6],[3,5,7]])\n",
    "# '+'\n",
    "arr_add_1 = arr_1 + arr_2\n",
    "# np.add()\n",
    "arr_add_2 = np.add(arr_1, arr_2)\n",
    "# print result\n",
    "print(f\"Addition 1: {arr_add_1}\")\n",
    "print(f\"Addition 2: {arr_add_2}\")"
   ]
  },
  {
   "cell_type": "code",
   "execution_count": 21,
   "metadata": {},
   "outputs": [
    {
     "name": "stdout",
     "output_type": "stream",
     "text": [
      "Addition 1: tensor([[ 2,  1,  6],\n",
      "        [-1,  5,  6],\n",
      "        [ 1, 10,  8]])\n",
      "Addition 2: tensor([[ 2,  1,  6],\n",
      "        [-1,  5,  6],\n",
      "        [ 1, 10,  8]])\n"
     ]
    }
   ],
   "source": [
    "# PyTorch code\n",
    "tensor_1 = torch.tensor([[1,-2,1],[-3,1,0],[-2,5,1]])\n",
    "tensor_2 = torch.tensor([[1,3,5],[2,4,6],[3,5,7]])\n",
    "# '+'\n",
    "tensor_add_1 = tensor_1 + tensor_2\n",
    "# torch.add()\n",
    "tensor_add_2 = torch.add(tensor_1, tensor_2)\n",
    "# print result\n",
    "print(f\"Addition 1: {tensor_add_1}\")\n",
    "print(f\"Addition 2: {tensor_add_2}\")"
   ]
  },
  {
   "cell_type": "code",
   "execution_count": 23,
   "metadata": {},
   "outputs": [
    {
     "name": "stdout",
     "output_type": "stream",
     "text": [
      "Addition 1: [[ 2  1  6]\n",
      " [-1  5  6]\n",
      " [ 1 10  8]]\n",
      "Addition 2: [[ 2  1  6]\n",
      " [-1  5  6]\n",
      " [ 1 10  8]]\n"
     ]
    }
   ],
   "source": [
    "# TensorFlow code\n",
    "tensor_1 = tf.constant([[1,-2,1],[-3,1,0],[-2,5,1]])\n",
    "tensor_2 = tf.constant([[1,3,5],[2,4,6],[3,5,7]])\n",
    "# '+'\n",
    "tensor_add_1 = tensor_1 + tensor_2\n",
    "# tf.add()\n",
    "tensor_add_2 = tf.add(tensor_1, tensor_2)\n",
    "# print result\n",
    "print(f\"Addition 1: {tensor_add_1}\")\n",
    "print(f\"Addition 2: {tensor_add_2}\")"
   ]
  },
  {
   "cell_type": "markdown",
   "metadata": {},
   "source": [
    "### Subtraction"
   ]
  },
  {
   "cell_type": "code",
   "execution_count": 24,
   "metadata": {},
   "outputs": [
    {
     "name": "stdout",
     "output_type": "stream",
     "text": [
      "Subtraction 1: [[ 0 -5 -4]\n",
      " [-5 -3 -6]\n",
      " [-5  0 -6]]\n",
      "Subtraction 2: [[ 0 -5 -4]\n",
      " [-5 -3 -6]\n",
      " [-5  0 -6]]\n"
     ]
    }
   ],
   "source": [
    "arr_1 = np.array([[1,-2,1],[-3,1,0],[-2,5,1]])\n",
    "arr_2 = np.array([[1,3,5],[2,4,6],[3,5,7]])\n",
    "# '-'\n",
    "arr_sub_1 = arr_1 - arr_2\n",
    "# np.subtract()\n",
    "arr_sub_2 = np.subtract(arr_1, arr_2)\n",
    "# print result\n",
    "print(f\"Subtraction 1: {arr_sub_1}\")\n",
    "print(f\"Subtraction 2: {arr_sub_2}\")"
   ]
  },
  {
   "cell_type": "code",
   "execution_count": 25,
   "metadata": {},
   "outputs": [
    {
     "name": "stdout",
     "output_type": "stream",
     "text": [
      "Subtraction 1: tensor([[ 0, -5, -4],\n",
      "        [-5, -3, -6],\n",
      "        [-5,  0, -6]])\n",
      "Subtraction 2: tensor([[ 0, -5, -4],\n",
      "        [-5, -3, -6],\n",
      "        [-5,  0, -6]])\n"
     ]
    }
   ],
   "source": [
    "# PyTorch code\n",
    "tensor_1 = torch.tensor([[1,-2,1],[-3,1,0],[-2,5,1]])\n",
    "tensor_2 = torch.tensor([[1,3,5],[2,4,6],[3,5,7]])\n",
    "# '-'\n",
    "tensor_sub_1 = tensor_1 - tensor_2\n",
    "# torch.sub()\n",
    "tensor_sub_2 = torch.sub(tensor_1, tensor_2)\n",
    "# print result\n",
    "print(f\"Subtraction 1: {tensor_sub_1}\")\n",
    "print(f\"Subtraction 2: {tensor_sub_2}\")"
   ]
  },
  {
   "cell_type": "code",
   "execution_count": 26,
   "metadata": {},
   "outputs": [
    {
     "name": "stdout",
     "output_type": "stream",
     "text": [
      "Subtraction 1: [[ 0 -5 -4]\n",
      " [-5 -3 -6]\n",
      " [-5  0 -6]]\n",
      "Subtraction 2: [[ 0 -5 -4]\n",
      " [-5 -3 -6]\n",
      " [-5  0 -6]]\n"
     ]
    }
   ],
   "source": [
    "# TensorFlow code\n",
    "tensor_1 = tf.constant([[1,-2,1],[-3,1,0],[-2,5,1]])\n",
    "tensor_2 = tf.constant([[1,3,5],[2,4,6],[3,5,7]])\n",
    "# '-'\n",
    "tensor_sub_1 = tensor_1 - tensor_2\n",
    "# tf.subtract()\n",
    "tensor_sub_2 = tf.subtract(tensor_1, tensor_2)\n",
    "# print result\n",
    "print(f\"Subtraction 1: {tensor_sub_1}\")\n",
    "print(f\"Subtraction 2: {tensor_sub_2}\")"
   ]
  },
  {
   "cell_type": "markdown",
   "metadata": {},
   "source": [
    "## Các Phép Tính Numpy, Pytorch và Tensorflow - Phần 2"
   ]
  },
  {
   "cell_type": "markdown",
   "metadata": {},
   "source": [
    "### Multiplication"
   ]
  },
  {
   "cell_type": "code",
   "execution_count": 27,
   "metadata": {},
   "outputs": [
    {
     "name": "stdout",
     "output_type": "stream",
     "text": [
      "Multiplication 1: [[ 1 -6  5]\n",
      " [-6  4  0]\n",
      " [-6 25  7]]\n",
      "Multiplication 2: [[ 1 -6  5]\n",
      " [-6  4  0]\n",
      " [-6 25  7]]\n"
     ]
    }
   ],
   "source": [
    "arr_1 = np.array([[1,-2,1],[-3,1,0],[-2,5,1]])\n",
    "arr_2 = np.array([[1,3,5],[2,4,6],[3,5,7]])\n",
    "# '*'\n",
    "arr_mul_1 = arr_1 * arr_2\n",
    "# np.multiply()\n",
    "arr_mul_2 = np.multiply(arr_1, arr_2)\n",
    "# print result\n",
    "print(f\"Multiplication 1: {arr_mul_1}\")\n",
    "print(f\"Multiplication 2: {arr_mul_2}\")"
   ]
  },
  {
   "cell_type": "code",
   "execution_count": 28,
   "metadata": {},
   "outputs": [
    {
     "name": "stdout",
     "output_type": "stream",
     "text": [
      "Multiplication 1: tensor([[ 1, -6,  5],\n",
      "        [-6,  4,  0],\n",
      "        [-6, 25,  7]])\n",
      "Multiplication 2: tensor([[ 1, -6,  5],\n",
      "        [-6,  4,  0],\n",
      "        [-6, 25,  7]])\n"
     ]
    }
   ],
   "source": [
    "# PyTorch code\n",
    "tensor_1 = torch.tensor([[1,-2,1],[-3,1,0],[-2,5,1]])\n",
    "tensor_2 = torch.tensor([[1,3,5],[2,4,6],[3,5,7]])\n",
    "# '*'\n",
    "tensor_mul_1 = tensor_1 * tensor_2\n",
    "# torch.mul()\n",
    "tensor_mul_2 = torch.mul(tensor_1, tensor_2)\n",
    "# print result\n",
    "print(f\"Multiplication 1: {tensor_mul_1}\")\n",
    "print(f\"Multiplication 2: {tensor_mul_2}\")"
   ]
  },
  {
   "cell_type": "code",
   "execution_count": 29,
   "metadata": {},
   "outputs": [
    {
     "name": "stdout",
     "output_type": "stream",
     "text": [
      "Multiplication 1: [[ 1 -6  5]\n",
      " [-6  4  0]\n",
      " [-6 25  7]]\n",
      "Multiplication 2: [[ 1 -6  5]\n",
      " [-6  4  0]\n",
      " [-6 25  7]]\n"
     ]
    }
   ],
   "source": [
    "# TensorFlow code\n",
    "tensor_1 = tf.constant([[1,-2,1],[-3,1,0],[-2,5,1]])\n",
    "tensor_2 = tf.constant([[1,3,5],[2,4,6],[3,5,7]])\n",
    "# '*'\n",
    "tensor_mul_1 = tensor_1 * tensor_2\n",
    "# tf.multiply()\n",
    "tensor_mul_2 = tf.multiply(tensor_1, tensor_2)\n",
    "# print result\n",
    "print(f\"Multiplication 1: {tensor_mul_1}\")\n",
    "print(f\"Multiplication 2: {tensor_mul_2}\")"
   ]
  },
  {
   "cell_type": "markdown",
   "metadata": {},
   "source": [
    "### Division"
   ]
  },
  {
   "cell_type": "code",
   "execution_count": 30,
   "metadata": {},
   "outputs": [
    {
     "name": "stdout",
     "output_type": "stream",
     "text": [
      "Division 1: [[ 1.         -0.66666667  0.2       ]\n",
      " [-1.5         0.25        0.        ]\n",
      " [-0.66666667  1.          0.14285714]]\n",
      "Division 2: [[ 1.         -0.66666667  0.2       ]\n",
      " [-1.5         0.25        0.        ]\n",
      " [-0.66666667  1.          0.14285714]]\n"
     ]
    }
   ],
   "source": [
    "arr_1 = np.array([[1,-2,1],[-3,1,0],[-2,5,1]])\n",
    "arr_2 = np.array([[1,3,5],[2,4,6],[3,5,7]])\n",
    "# '/'\n",
    "arr_div_1 = arr_1 / arr_2\n",
    "# np.divide()\n",
    "arr_div_2 = np.divide(arr_1, arr_2)\n",
    "# print result\n",
    "print(f\"Division 1: {arr_div_1}\")\n",
    "print(f\"Division 2: {arr_div_2}\")"
   ]
  },
  {
   "cell_type": "code",
   "execution_count": 31,
   "metadata": {},
   "outputs": [
    {
     "name": "stdout",
     "output_type": "stream",
     "text": [
      "Division 1: tensor([[ 1.0000, -0.6667,  0.2000],\n",
      "        [-1.5000,  0.2500,  0.0000],\n",
      "        [-0.6667,  1.0000,  0.1429]])\n",
      "Division 2: tensor([[ 1.0000, -0.6667,  0.2000],\n",
      "        [-1.5000,  0.2500,  0.0000],\n",
      "        [-0.6667,  1.0000,  0.1429]])\n"
     ]
    }
   ],
   "source": [
    "# PyTorch code\n",
    "tensor_1 = torch.tensor([[1,-2,1],[-3,1,0],[-2,5,1]])\n",
    "tensor_2 = torch.tensor([[1,3,5],[2,4,6],[3,5,7]])\n",
    "# '/'\n",
    "tensor_div_1 = tensor_1 / tensor_2\n",
    "# torch.div()\n",
    "tensor_div_2 = torch.div(tensor_1, tensor_2)\n",
    "# print result\n",
    "print(f\"Division 1: {tensor_div_1}\")\n",
    "print(f\"Division 2: {tensor_div_2}\")"
   ]
  },
  {
   "cell_type": "code",
   "execution_count": 32,
   "metadata": {},
   "outputs": [
    {
     "name": "stdout",
     "output_type": "stream",
     "text": [
      "Division 1: [[ 1.         -0.66666667  0.2       ]\n",
      " [-1.5         0.25        0.        ]\n",
      " [-0.66666667  1.          0.14285714]]\n",
      "Division 2: [[ 1.         -0.66666667  0.2       ]\n",
      " [-1.5         0.25        0.        ]\n",
      " [-0.66666667  1.          0.14285714]]\n"
     ]
    }
   ],
   "source": [
    "# TensorFlow code\n",
    "tensor_1 = tf.constant([[1,-2,1],[-3,1,0],[-2,5,1]])\n",
    "tensor_2 = tf.constant([[1,3,5],[2,4,6],[3,5,7]])\n",
    "# '/'\n",
    "tensor_div_1 = tensor_1 / tensor_2\n",
    "# tf.divide()\n",
    "tensor_div_2 = tf.divide(tensor_1, tensor_2)\n",
    "# print result\n",
    "print(f\"Division 1: {tensor_div_1}\")\n",
    "print(f\"Division 2: {tensor_div_2}\")"
   ]
  },
  {
   "cell_type": "markdown",
   "metadata": {},
   "source": [
    "## Các Phép Tính Numpy, Pytorch và Tensorflow - Phần 3"
   ]
  },
  {
   "cell_type": "markdown",
   "metadata": {},
   "source": [
    "### Inner product & matrix multiplication"
   ]
  },
  {
   "cell_type": "code",
   "execution_count": 35,
   "metadata": {},
   "outputs": [
    {
     "name": "stdout",
     "output_type": "stream",
     "text": [
      "Inner product: 38\n",
      "Matrix multiplication: [[ -1 -30 -77]\n",
      " [ 11  33  46]\n",
      " [ 33 -21 -42]]\n"
     ]
    }
   ],
   "source": [
    "arr_1 = np.array([1,4,7])\n",
    "arr_2 = np.array([9,2,3])\n",
    "arr_3 = np.random.randint(-10, 10, (3, 3))\n",
    "arr_4 = np.random.randint(-10, 10, (3, 3))\n",
    "np.random.seed(2024)\n",
    "# inner product\n",
    "result_dot = np.dot(arr_1, arr_2)\n",
    "# matrix multiplication\n",
    "result_matmul = np.matmul(arr_3, arr_4)\n",
    "# print result\n",
    "print(f\"Inner product: {result_dot}\")\n",
    "print(f\"Matrix multiplication: {result_matmul}\")"
   ]
  },
  {
   "cell_type": "code",
   "execution_count": 36,
   "metadata": {},
   "outputs": [
    {
     "name": "stdout",
     "output_type": "stream",
     "text": [
      "Inner product: 38\n",
      "Matrix multiplication: tensor([[-184,  -34,   23],\n",
      "        [ -65,  -32,   61],\n",
      "        [  -9,   26,  -76]])\n"
     ]
    }
   ],
   "source": [
    "# PyTorch code\n",
    "tensor_1 = torch.tensor([1,4,7])\n",
    "tensor_2 = torch.tensor([9,2,3])\n",
    "tensor_3 = torch.randint(-10, 10, (3, 3))\n",
    "tensor_4 = torch.randint(-10, 10, (3, 3))\n",
    "torch.manual_seed(2024)\n",
    "# inner product\n",
    "result_dot = torch.dot(tensor_1, tensor_2)\n",
    "# matrix multiplication\n",
    "result_matmul = torch.matmul(tensor_3, tensor_4)\n",
    "# print result\n",
    "print(f\"Inner product: {result_dot}\")\n",
    "print(f\"Matrix multiplication: {result_matmul}\")"
   ]
  },
  {
   "cell_type": "code",
   "execution_count": 37,
   "metadata": {},
   "outputs": [
    {
     "name": "stdout",
     "output_type": "stream",
     "text": [
      "Inner product: 38\n",
      "Matrix multiplication: [[ 38  45  24]\n",
      " [-26   0 -27]\n",
      " [  6  27  15]]\n"
     ]
    }
   ],
   "source": [
    "# TensorFlow code\n",
    "tensor_1 = tf.constant([1,4,7])\n",
    "tensor_2 = tf.constant([9,2,3])\n",
    "tensor_3 = tf.random.uniform((3, 3), -10, 10, dtype=tf.int32)\n",
    "tensor_4 = tf.random.uniform((3, 3), -10, 10, dtype=tf.int32)\n",
    "tf.random.set_seed(2024)\n",
    "# inner product\n",
    "result_dot = tf.tensordot(tensor_1, tensor_2, axes=1)\n",
    "# matrix multiplication\n",
    "result_matmul = tf.matmul(tensor_3, tensor_4)\n",
    "# print result\n",
    "print(f\"Inner product: {result_dot}\")\n",
    "print(f\"Matrix multiplication: {result_matmul}\")"
   ]
  },
  {
   "cell_type": "markdown",
   "metadata": {},
   "source": [
    "## Các Phép Tính Numpy, Pytorch và Tensorflow - Transpose và Summation"
   ]
  },
  {
   "cell_type": "code",
   "execution_count": 38,
   "metadata": {},
   "outputs": [
    {
     "name": "stdout",
     "output_type": "stream",
     "text": [
      "Original array: [[ -2 -10 -10  -6]\n",
      " [ -1  -9  -7   0]\n",
      " [ -8 -10  -5   7]]\n",
      "Sum of all elements: -61\n",
      "Sum via column: [-11 -29 -22   1]\n",
      "Sum via row: [-28 -17 -16]\n"
     ]
    }
   ],
   "source": [
    "np.random.seed(2024)\n",
    "arr_1 = np.random.randint(-10, 10, (3, 4))\n",
    "# transpose\n",
    "arr_T = arr_1.T\n",
    "# sum of all elements\n",
    "arr_sum_all = np.sum(arr_1)\n",
    "# sum via column\n",
    "column_sum = np.sum(arr_1, axis=0)\n",
    "# sum via row\n",
    "row_sum = np.sum(arr_1, axis=1)\n",
    "# print result\n",
    "print(f\"Original array: {arr_1}\")\n",
    "print(f\"Sum of all elements: {arr_sum_all}\")\n",
    "print(f\"Sum via column: {column_sum}\")\n",
    "print(f\"Sum via row: {row_sum}\")"
   ]
  },
  {
   "cell_type": "code",
   "execution_count": 2,
   "metadata": {},
   "outputs": [
    {
     "name": "stdout",
     "output_type": "stream",
     "text": [
      "Original tensor: tensor([[  2,   0,  -6, -10],\n",
      "        [ -7, -10,   0,   1],\n",
      "        [  3,   9,   7,  -6]])\n",
      "Sum of all elements: -17\n",
      "Sum via column: tensor([ -2,  -1,   1, -15])\n",
      "Sum via row: tensor([-14, -16,  13])\n"
     ]
    }
   ],
   "source": [
    "# PyTorch code\n",
    "torch.manual_seed(2024)\n",
    "tensor_1 = torch.randint(-10, 10, (3, 4))\n",
    "# transpose\n",
    "tensor_T = tensor_1.T\n",
    "# sum of all elements\n",
    "tensor_sum_all = torch.sum(tensor_1)\n",
    "# sum via column\n",
    "column_sum = torch.sum(tensor_1, axis=0)\n",
    "# sum via row\n",
    "row_sum = torch.sum(tensor_1, axis=1)\n",
    "# print result\n",
    "print(f\"Original tensor: {tensor_1}\")\n",
    "print(f\"Sum of all elements: {tensor_sum_all}\")\n",
    "print(f\"Sum via column: {column_sum}\")\n",
    "print(f\"Sum via row: {row_sum}\")"
   ]
  },
  {
   "cell_type": "code",
   "execution_count": 3,
   "metadata": {},
   "outputs": [
    {
     "name": "stdout",
     "output_type": "stream",
     "text": [
      "Original tensor: [[-6 -2  0 -2]\n",
      " [ 4  4 -9  3]\n",
      " [ 7  1  2 -5]]\n",
      "Sum of all elements: -3\n",
      "Sum via column: [ 5  3 -7 -4]\n",
      "Sum via row: [-10   2   5]\n"
     ]
    }
   ],
   "source": [
    "# TensorFlow code\n",
    "tf.random.set_seed(2024)\n",
    "tensor_1 = tf.random.uniform((3, 4), -10, 10, dtype=tf.int32)\n",
    "# transpose\n",
    "tensor_T = tf.transpose(tensor_1)\n",
    "# sum of all elements\n",
    "tensor_sum_all = tf.reduce_sum(tensor_1)\n",
    "# sum via column\n",
    "column_sum = tf.reduce_sum(tensor_1, axis=0)\n",
    "# sum via row\n",
    "row_sum = tf.reduce_sum(tensor_1, axis=1)\n",
    "# print result\n",
    "print(f\"Original tensor: {tensor_1}\")\n",
    "print(f\"Sum of all elements: {tensor_sum_all}\")\n",
    "print(f\"Sum via column: {column_sum}\")\n",
    "print(f\"Sum via row: {row_sum}\")"
   ]
  },
  {
   "cell_type": "code",
   "execution_count": null,
   "metadata": {},
   "outputs": [],
   "source": []
  }
 ],
 "metadata": {
  "kernelspec": {
   "display_name": "base",
   "language": "python",
   "name": "python3"
  },
  "language_info": {
   "codemirror_mode": {
    "name": "ipython",
    "version": 3
   },
   "file_extension": ".py",
   "mimetype": "text/x-python",
   "name": "python",
   "nbconvert_exporter": "python",
   "pygments_lexer": "ipython3",
   "version": "3.10.8"
  }
 },
 "nbformat": 4,
 "nbformat_minor": 2
}
