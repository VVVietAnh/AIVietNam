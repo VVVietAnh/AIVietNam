{
 "cells": [
  {
   "cell_type": "markdown",
   "metadata": {},
   "source": [
    "## Practice String in Python"
   ]
  },
  {
   "cell_type": "code",
   "execution_count": 1,
   "metadata": {},
   "outputs": [
    {
     "name": "stdout",
     "output_type": "stream",
     "text": [
      "Tom học lập trình tại AI VIETNAM\n"
     ]
    }
   ],
   "source": [
    "student_name = \"Tom\"\n",
    "class_name = \"AI VIETNAM\"\n",
    "message = f\"{student_name} học lập trình tại {class_name}\"\n",
    "print(message)"
   ]
  },
  {
   "cell_type": "code",
   "execution_count": 2,
   "metadata": {},
   "outputs": [
    {
     "name": "stdout",
     "output_type": "stream",
     "text": [
      "I'm a student\n"
     ]
    }
   ],
   "source": [
    "# print('I'm a student') # Error\n",
    "print('I\\'m a student')"
   ]
  },
  {
   "cell_type": "code",
   "execution_count": 3,
   "metadata": {},
   "outputs": [
    {
     "name": "stdout",
     "output_type": "stream",
     "text": [
      "Alice is a great teacher\n"
     ]
    }
   ],
   "source": [
    "# 4.1\n",
    "name = \"Alice\"\n",
    "print(f\"{name} is a great teacher\")"
   ]
  },
  {
   "cell_type": "code",
   "execution_count": 4,
   "metadata": {},
   "outputs": [
    {
     "name": "stdout",
     "output_type": "stream",
     "text": [
      "Title case: Ms Taylor\n",
      "Upper case: MS TAYLOR\n",
      "Lower case: ms taylor\n"
     ]
    }
   ],
   "source": [
    "# 4.2\n",
    "name = \"ms Taylor\"\n",
    "print(f\"Title case: {name.title()}\")\n",
    "print(f\"Upper case: {name.upper()}\")\n",
    "print(f\"Lower case: {name.lower()}\")"
   ]
  },
  {
   "cell_type": "code",
   "execution_count": null,
   "metadata": {},
   "outputs": [],
   "source": []
  }
 ],
 "metadata": {
  "kernelspec": {
   "display_name": "aio",
   "language": "python",
   "name": "python3"
  },
  "language_info": {
   "codemirror_mode": {
    "name": "ipython",
    "version": 3
   },
   "file_extension": ".py",
   "mimetype": "text/x-python",
   "name": "python",
   "nbconvert_exporter": "python",
   "pygments_lexer": "ipython3",
   "version": "3.10.14"
  }
 },
 "nbformat": 4,
 "nbformat_minor": 2
}
