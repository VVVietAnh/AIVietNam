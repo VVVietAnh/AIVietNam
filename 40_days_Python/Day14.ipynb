{
 "cells": [
  {
   "cell_type": "markdown",
   "metadata": {},
   "source": [
    "## Daily AI Excercise - Numpy, Pytorch, Tensorflow - Transpose and Summation"
   ]
  },
  {
   "cell_type": "code",
   "execution_count": 1,
   "metadata": {},
   "outputs": [
    {
     "name": "stdout",
     "output_type": "stream",
     "text": [
      "array 1: \n",
      " [[1 2]\n",
      " [3 4]]\n",
      "array 1 transposed, method 1: \n",
      " [[1 3]\n",
      " [2 4]]\n",
      "array 1 transposed, method 2: \n",
      " [[1 3]\n",
      " [2 4]]\n"
     ]
    }
   ],
   "source": [
    "import numpy as np\n",
    "\n",
    "arr_1 = np.array([[1, 2], [3, 4]])\n",
    "\n",
    "arr_transposed_1 = np.transpose(arr_1)\n",
    "\n",
    "arr_transposed_2 = arr_1.T\n",
    "\n",
    "print(\"array 1: \\n\", arr_1)\n",
    "print(\"array 1 transposed, method 1: \\n\", arr_transposed_1)\n",
    "print(\"array 1 transposed, method 2: \\n\", arr_transposed_2)"
   ]
  },
  {
   "cell_type": "code",
   "execution_count": 2,
   "metadata": {},
   "outputs": [
    {
     "name": "stdout",
     "output_type": "stream",
     "text": [
      "tensor 1: \n",
      " tensor([[1, 2],\n",
      "        [3, 4]])\n",
      "tensor 1 transposed, method 1: \n",
      " tensor([[1, 3],\n",
      "        [2, 4]])\n",
      "tensor 1 transposed, method 2: \n",
      " tensor([[1, 3],\n",
      "        [2, 4]])\n"
     ]
    }
   ],
   "source": [
    "import torch\n",
    "\n",
    "tensor_1 = torch.tensor([[1, 2], [3, 4]])\n",
    "\n",
    "tensor_transposed_1 = tensor_1.t()\n",
    "\n",
    "tensor_transposed_2 = torch.transpose(tensor_1, 0, 1)\n",
    "\n",
    "print(\"tensor 1: \\n\", tensor_1)\n",
    "print(\"tensor 1 transposed, method 1: \\n\", tensor_transposed_1)\n",
    "print(\"tensor 1 transposed, method 2: \\n\", tensor_transposed_2)"
   ]
  },
  {
   "cell_type": "code",
   "execution_count": 3,
   "metadata": {},
   "outputs": [
    {
     "name": "stdout",
     "output_type": "stream",
     "text": [
      "tensor 1: \n",
      " tf.Tensor(\n",
      "[[1 2]\n",
      " [3 4]], shape=(2, 2), dtype=int32)\n",
      "tensor 1 transposed: \n",
      " tf.Tensor(\n",
      "[[1 3]\n",
      " [2 4]], shape=(2, 2), dtype=int32)\n"
     ]
    }
   ],
   "source": [
    "import tensorflow as tf\n",
    "\n",
    "tensor_2 = tf.constant([[1, 2], [3, 4]])\n",
    "\n",
    "tensor_transposed = tf.transpose(tensor_2)\n",
    "\n",
    "print(\"tensor 1: \\n\", tensor_2)\n",
    "print(\"tensor 1 transposed: \\n\", tensor_transposed)"
   ]
  },
  {
   "cell_type": "markdown",
   "metadata": {},
   "source": [
    "### Summation"
   ]
  },
  {
   "cell_type": "code",
   "execution_count": 4,
   "metadata": {},
   "outputs": [
    {
     "name": "stdout",
     "output_type": "stream",
     "text": [
      "array: \n",
      " [[1 2 3]\n",
      " [4 5 6]]\n",
      "total sum:  21\n",
      "column sum:  [5 7 9]\n",
      "row sum:  [ 6 15]\n"
     ]
    }
   ],
   "source": [
    "import numpy as np\n",
    "\n",
    "arr = np.array([[1, 2, 3], [4, 5, 6]])\n",
    "\n",
    "total_sum = np.sum(arr)\n",
    "\n",
    "column_sum = np.sum(arr, axis=0)\n",
    "\n",
    "row_sum = np.sum(arr, axis=1)\n",
    "\n",
    "print(\"array: \\n\", arr)\n",
    "print(\"total sum: \", total_sum)\n",
    "print(\"column sum: \", column_sum)\n",
    "print(\"row sum: \", row_sum)"
   ]
  },
  {
   "cell_type": "code",
   "execution_count": 6,
   "metadata": {},
   "outputs": [
    {
     "name": "stdout",
     "output_type": "stream",
     "text": [
      "tensor 1: \n",
      " tensor([[1, 2, 3],\n",
      "        [4, 5, 6]])\n",
      "total sum:  tensor(21)\n",
      "column sum:  tensor([5, 7, 9])\n",
      "row sum:  tensor([ 6, 15])\n"
     ]
    }
   ],
   "source": [
    "import torch\n",
    "\n",
    "tensor_1 = torch.tensor([[1, 2, 3], [4, 5, 6]])\n",
    "\n",
    "total_sum = torch.sum(tensor_1)\n",
    "\n",
    "column_sum = torch.sum(tensor_1, dim=0)\n",
    "\n",
    "row_sum = torch.sum(tensor_1, dim=1)\n",
    "\n",
    "print(\"tensor 1: \\n\", tensor_1)\n",
    "print(\"total sum: \", total_sum)\n",
    "print(\"column sum: \", column_sum)\n",
    "print(\"row sum: \", row_sum)"
   ]
  },
  {
   "cell_type": "code",
   "execution_count": 7,
   "metadata": {},
   "outputs": [
    {
     "name": "stdout",
     "output_type": "stream",
     "text": [
      "tensor 2: \n",
      " tf.Tensor(\n",
      "[[1 2 3]\n",
      " [4 5 6]], shape=(2, 3), dtype=int32)\n",
      "total sum:  tf.Tensor(21, shape=(), dtype=int32)\n",
      "column sum:  tf.Tensor([5 7 9], shape=(3,), dtype=int32)\n",
      "row sum:  tf.Tensor([ 6 15], shape=(2,), dtype=int32)\n"
     ]
    }
   ],
   "source": [
    "import tensorflow as tf\n",
    "\n",
    "tensor_2 = tf.constant([[1, 2, 3], [4, 5, 6]])\n",
    "\n",
    "total_sum = tf.reduce_sum(tensor_2)\n",
    "\n",
    "column_sum = tf.reduce_sum(tensor_2, axis=0)\n",
    "\n",
    "row_sum = tf.reduce_sum(tensor_2, axis=1)\n",
    "\n",
    "print(\"tensor 2: \\n\", tensor_2)\n",
    "print(\"total sum: \", total_sum)\n",
    "print(\"column sum: \", column_sum)\n",
    "print(\"row sum: \", row_sum)"
   ]
  },
  {
   "cell_type": "markdown",
   "metadata": {},
   "source": [
    "### Excercise"
   ]
  },
  {
   "cell_type": "code",
   "execution_count": 9,
   "metadata": {},
   "outputs": [
    {
     "name": "stdout",
     "output_type": "stream",
     "text": [
      "array: \n",
      " [[ -8   4   8  -1]\n",
      " [  5   8 -10  -8]\n",
      " [  2   7  -6   8]]\n",
      "array transposed: \n",
      " [[ -8   5   2]\n",
      " [  4   8   7]\n",
      " [  8 -10  -6]\n",
      " [ -1  -8   8]]\n"
     ]
    }
   ],
   "source": [
    "# write a program to create numpy array with random interger between [-10, 10] with shape (3, 4)\n",
    "# then transpose the array\n",
    "\n",
    "import numpy as np\n",
    "\n",
    "arr = np.random.randint(-10, 10, (3, 4))\n",
    "\n",
    "arr_transposed = np.transpose(arr)\n",
    "\n",
    "print(\"array: \\n\", arr)\n",
    "print(\"array transposed: \\n\", arr_transposed)"
   ]
  },
  {
   "cell_type": "code",
   "execution_count": null,
   "metadata": {},
   "outputs": [],
   "source": [
    "# write a program to create a Pytorch tensor with random interger between [-10, 10] with shape (3, 4)\n",
    "# then do the matrix multiplication"
   ]
  }
 ],
 "metadata": {
  "kernelspec": {
   "display_name": "base",
   "language": "python",
   "name": "python3"
  },
  "language_info": {
   "codemirror_mode": {
    "name": "ipython",
    "version": 3
   },
   "file_extension": ".py",
   "mimetype": "text/x-python",
   "name": "python",
   "nbconvert_exporter": "python",
   "pygments_lexer": "ipython3",
   "version": "3.10.8"
  }
 },
 "nbformat": 4,
 "nbformat_minor": 2
}
