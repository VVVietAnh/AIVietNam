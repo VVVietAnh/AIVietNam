{
 "cells": [
  {
   "cell_type": "markdown",
   "metadata": {},
   "source": [
    "## Daily AI Exercise - newspaper3k and nltk"
   ]
  },
  {
   "cell_type": "code",
   "execution_count": null,
   "metadata": {},
   "outputs": [],
   "source": [
    "!pip install newspaper3k\n",
    "!pip install nltk\n",
    "!pip install lxml[html_clean]"
   ]
  },
  {
   "cell_type": "code",
   "execution_count": 6,
   "metadata": {},
   "outputs": [],
   "source": [
    "from newspaper import Article\n",
    "\n",
    "article = Article('https://www.accuweather.com/vi/vn/ho-chi-minh-city/353981/hourly-weather-forecast/353981')"
   ]
  },
  {
   "cell_type": "code",
   "execution_count": 7,
   "metadata": {},
   "outputs": [
    {
     "name": "stdout",
     "output_type": "stream",
     "text": [
      "Nắng nhẹ\n",
      "\n",
      "RealFeel Shade™37°\n",
      "\n",
      "GióNĐN 11 km/h\n",
      "\n",
      "Chất lượng không khíVừa phải\n",
      "\n",
      "Chỉ số UV tối đa8 Rất cao\n",
      "{'https://sb.scorecardresearch.com/p?cs_fpid=2fcf6209-ea88-49c4-9a2d-072e0374e474&cs_fpit=c&c1=2&c4=https%3a%2f%2fwww.accuweather.com%2fvi%2fvn%2fho-chi-minh-city%2f353981%2fhourly-weather-forecast%2f353981&c2=6005068&c7=https%3a%2f%2fwww.accuweather.com%2fvi%2fvn%2fho-chi-minh-city%2f353981%2fhourly-weather-forecast%2f353981&c8=Th%E1%BB%9Di%20ti%E1%BA%BFt%20h%C3%A0ng%20gi%E1%BB%9D%20%E1%BB%9F%20Th%C3%A0nh%20ph%E1%BB%91%20H%E1%BB%93%20Ch%C3%AD%20Minh%2C%20H%E1%BB%93%20Ch%C3%AD%20Minh%2C%20Vi%E1%BB%87t%20Nam%20%7C%20AccuWeather&c9=&cs_ucfr=', 'https://www.accuweather.com/images/logos/aw-logo-og-meta.png'}\n"
     ]
    }
   ],
   "source": [
    "article.download()\n",
    "article.parse()\n",
    "\n",
    "print(article.text)\n",
    "\n",
    "print(article.images)"
   ]
  },
  {
   "cell_type": "code",
   "execution_count": 8,
   "metadata": {},
   "outputs": [
    {
     "name": "stderr",
     "output_type": "stream",
     "text": [
      "[nltk_data] Downloading package punkt to\n",
      "[nltk_data]     C:\\Users\\vieta\\AppData\\Roaming\\nltk_data...\n",
      "[nltk_data]   Package punkt is already up-to-date!\n"
     ]
    },
    {
     "name": "stdout",
     "output_type": "stream",
     "text": [
      "[('Tôi', 'NNP'), ('thích', 'NN'), ('học', 'NN'), ('AI', 'NNP'), ('và', 'NN'), ('Toán', 'NNP')]\n"
     ]
    }
   ],
   "source": [
    "import nltk\n",
    "from nltk.tokenize import word_tokenize\n",
    "\n",
    "nltk.download('punkt')\n",
    "\n",
    "data = \"Tôi thích học AI và Toán\"\n",
    "\n",
    "tokenization = word_tokenize(data)\n",
    "\n",
    "result = nltk.pos_tag(tokenization)\n",
    "print(result)"
   ]
  },
  {
   "cell_type": "code",
   "execution_count": 11,
   "metadata": {},
   "outputs": [
    {
     "name": "stdout",
     "output_type": "stream",
     "text": [
      "Ngày 13/3, Cognition Labs, startup về công nghệ trí tuệ nhân tạo tại Mỹ, công bố kỹ sư phát triển phần mềm AI đầu tiên trên thế giới.\n",
      "Với Devin, các kỹ sư có thể tập trung vào những vấn đề thú vị hơn, các đội kỹ thuật có thể nỗ lực cho những mục tiêu tham vọng hơn\", Cognition cho biết.\n",
      "Giới thiệu về Devin - kỹ sư lập trình AI đầu tiên thế giới Đồng sáng lập Scott Wu giới thiệu về khả năng lập trình của Devin.\n",
      "Nhà phát triển cho biết sản phẩm này chỉ là bước đầu trong việc phát triển các kỹ sư AI của mình.\n",
      "Theo ông, con người đang ở giai đoạn đầu của cuộc cách mạng AI và lập trình không còn là kỹ năng quan trọng nữa.\n"
     ]
    },
    {
     "name": "stderr",
     "output_type": "stream",
     "text": [
      "[nltk_data] Downloading package punkt to\n",
      "[nltk_data]     C:\\Users\\vieta\\AppData\\Roaming\\nltk_data...\n",
      "[nltk_data]   Package punkt is already up-to-date!\n",
      "[nltk_data] Downloading package averaged_perceptron_tagger to\n",
      "[nltk_data]     C:\\Users\\vieta\\AppData\\Roaming\\nltk_data...\n",
      "[nltk_data]   Package averaged_perceptron_tagger is already up-to-\n",
      "[nltk_data]       date!\n"
     ]
    }
   ],
   "source": [
    "from newspaper import nlp\n",
    "import nltk\n",
    "#1\n",
    "article = Article('https://vnexpress.net/ky-su-phan-mem-ai-dau-tien-tren-the-gioi-4722040.html')\n",
    "article.download()\n",
    "article.parse()\n",
    "nltk.download('punkt')\n",
    "nltk.download('averaged_perceptron_tagger')\n",
    "\n",
    "article.nlp()\n",
    "print(article.summary)\n"
   ]
  },
  {
   "cell_type": "code",
   "execution_count": 12,
   "metadata": {},
   "outputs": [
    {
     "name": "stdout",
     "output_type": "stream",
     "text": [
      "[('Ngày', 'RB'), ('13/3', 'CD'), (',', ','), ('Cognition', 'NNP'), ('Labs', 'NNP'), (',', ','), ('startup', 'NN'), ('về', 'NN'), ('công', 'NN'), ('nghệ', 'JJ'), ('trí', 'NN'), ('tuệ', 'NN'), ('nhân', 'JJ'), ('tạo', 'NN'), ('tại', 'NN'), ('Mỹ', 'NNP'), (',', ','), ('công', 'NN'), ('bố', 'NN'), ('kỹ', 'NN'), ('sư', 'NN'), ('phát', 'NN'), ('triển', 'NN'), ('phần', 'NN'), ('mềm', 'NN'), ('AI', 'NNP'), ('đầu', 'NNP'), ('tiên', 'NN'), ('trên', 'NN'), ('thế', 'NN'), ('giới', 'NN'), ('.', '.'), ('Với', 'NNP'), ('Devin', 'NNP'), (',', ','), ('các', 'NN'), ('kỹ', 'NN'), ('sư', 'NN'), ('có', 'NN'), ('thể', 'NN'), ('tập', 'NN'), ('trung', 'NN'), ('vào', 'NN'), ('những', 'JJ'), ('vấn', 'NN'), ('đề', 'NNP'), ('thú', 'NN'), ('vị', 'NN'), ('hơn', 'NN'), (',', ','), ('các', 'NN'), ('đội', 'NNP'), ('kỹ', 'NNP'), ('thuật', 'NN'), ('có', 'NN'), ('thể', 'NN'), ('nỗ', 'JJ'), ('lực', 'NN'), ('cho', 'NN'), ('những', 'JJ'), ('mục', 'NN'), ('tiêu', 'NN'), ('tham', 'NN'), ('vọng', 'NN'), ('hơn', 'NN'), (\"''\", \"''\"), (',', ','), ('Cognition', 'NNP'), ('cho', 'NN'), ('biết', 'NN'), ('.', '.'), ('Giới', 'NNP'), ('thiệu', 'JJ'), ('về', 'NN'), ('Devin', 'NNP'), ('-', ':'), ('kỹ', 'NN'), ('sư', 'NN'), ('lập', 'NN'), ('trình', 'NN'), ('AI', 'NNP'), ('đầu', 'NNP'), ('tiên', 'NN'), ('thế', 'NN'), ('giới', 'NN'), ('Đồng', 'NNP'), ('sáng', 'NN'), ('lập', 'NN'), ('Scott', 'NNP'), ('Wu', 'NNP'), ('giới', 'NN'), ('thiệu', 'NN'), ('về', 'NN'), ('khả', 'NN'), ('năng', 'JJ'), ('lập', 'NN'), ('trình', 'NN'), ('của', 'NN'), ('Devin', 'NNP'), ('.', '.'), ('Nhà', 'NNP'), ('phát', 'NN'), ('triển', 'NN'), ('cho', 'NN'), ('biết', 'NN'), ('sản', 'NN'), ('phẩm', 'NN'), ('này', 'JJ'), ('chỉ', 'NN'), ('là', 'NN'), ('bước', 'NN'), ('đầu', 'NNP'), ('trong', 'RB'), ('việc', 'RB'), ('phát', 'JJ'), ('triển', 'NN'), ('các', 'NN'), ('kỹ', 'NN'), ('sư', 'NN'), ('AI', 'NNP'), ('của', 'NN'), ('mình', 'NN'), ('.', '.'), ('Theo', 'NNP'), ('ông', 'NNP'), (',', ','), ('con', 'NN'), ('người', 'NN'), ('đang', 'NNP'), ('ở', 'NNP'), ('giai', 'NN'), ('đoạn', 'NNP'), ('đầu', 'NNP'), ('của', 'NN'), ('cuộc', 'NN'), ('cách', 'NN'), ('mạng', 'NN'), ('AI', 'NNP'), ('và', 'NN'), ('lập', 'NN'), ('trình', 'NN'), ('không', 'NN'), ('còn', 'NN'), ('là', 'NN'), ('kỹ', 'NN'), ('năng', 'JJ'), ('quan', 'JJ'), ('trọng', 'NN'), ('nữa', 'NN'), ('.', '.')]\n"
     ]
    }
   ],
   "source": [
    "#2\n",
    "summary_text = article.summary\n",
    "tokenization = word_tokenize(summary_text)\n",
    "result = nltk.pos_tag(tokenization)\n",
    "print(result)"
   ]
  },
  {
   "cell_type": "code",
   "execution_count": null,
   "metadata": {},
   "outputs": [],
   "source": []
  }
 ],
 "metadata": {
  "kernelspec": {
   "display_name": "aio",
   "language": "python",
   "name": "python3"
  },
  "language_info": {
   "codemirror_mode": {
    "name": "ipython",
    "version": 3
   },
   "file_extension": ".py",
   "mimetype": "text/x-python",
   "name": "python",
   "nbconvert_exporter": "python",
   "pygments_lexer": "ipython3",
   "version": "3.10.14"
  }
 },
 "nbformat": 4,
 "nbformat_minor": 2
}
