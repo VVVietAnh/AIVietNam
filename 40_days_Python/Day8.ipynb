{
 "cells": [
  {
   "cell_type": "markdown",
   "metadata": {},
   "source": [
    "## Day 8: Basic Python - Enumerate"
   ]
  },
  {
   "cell_type": "code",
   "execution_count": 1,
   "metadata": {},
   "outputs": [
    {
     "name": "stdout",
     "output_type": "stream",
     "text": [
      "Danh sách mua sắm:\n",
      "1. Cà rốt\n",
      "2. Táo\n",
      "3. Sữa\n"
     ]
    }
   ],
   "source": [
    "shopping_list = [\"Cà rốt\", \"Táo\", \"Sữa\"]\n",
    "\n",
    "print(\"Danh sách mua sắm:\")\n",
    "for index in range(len(shopping_list)):\n",
    "    print(f\"{index + 1}. {shopping_list[index]}\")"
   ]
  },
  {
   "cell_type": "code",
   "execution_count": 2,
   "metadata": {},
   "outputs": [
    {
     "name": "stdout",
     "output_type": "stream",
     "text": [
      "Danh sách mua sắm:\n",
      "1. Cà rốt\n",
      "2. Táo\n",
      "3. Sữa\n"
     ]
    }
   ],
   "source": [
    "shopping_list = [\"Cà rốt\", \"Táo\", \"Sữa\"]\n",
    "\n",
    "print(\"Danh sách mua sắm:\")\n",
    "for index, item in enumerate(shopping_list):\n",
    "    print(f\"{index + 1}. {item}\")"
   ]
  },
  {
   "cell_type": "code",
   "execution_count": 3,
   "metadata": {},
   "outputs": [],
   "source": [
    "food_list = [\n",
    "    [\"Bơ\", \"Pizza\", \"Sữa\"],\n",
    "    [\"Xúc xích\", \"Táo\", \"Kem\"],\n",
    "    [\"Cà rốt\", \"Bánh dâu\", \"Cupcake\"]\n",
    "]\n",
    "\n",
    "search_items = [\"Cà rốt\", \"Táo\", \"Sữa\"]"
   ]
  },
  {
   "cell_type": "code",
   "execution_count": 4,
   "metadata": {},
   "outputs": [
    {
     "name": "stdout",
     "output_type": "stream",
     "text": [
      "Sữa được tìm thấy ở hàng 1 và cột 3\n",
      "Táo được tìm thấy ở hàng 2 và cột 2\n",
      "Cà rốt được tìm thấy ở hàng 3 và cột 1\n"
     ]
    }
   ],
   "source": [
    "# Method 1\n",
    "for i in range(len(food_list)):\n",
    "    for j in range(len(food_list[i])):\n",
    "        if food_list[i][j] in search_items:\n",
    "            print(f\"{food_list[i][j]} được tìm \"\n",
    "                  f\"thấy ở hàng {i + 1} và cột {j + 1}\")"
   ]
  },
  {
   "cell_type": "code",
   "execution_count": 6,
   "metadata": {},
   "outputs": [
    {
     "name": "stdout",
     "output_type": "stream",
     "text": [
      "Sữa được tìm thấy ở hàng 1 và cột 3\n",
      "Táo được tìm thấy ở hàng 2 và cột 2\n",
      "Cà rốt được tìm thấy ở hàng 3 và cột 1\n"
     ]
    }
   ],
   "source": [
    "# Method 2\n",
    "for i, row in enumerate(food_list, start=1):\n",
    "    for j, item in enumerate(row, start=1):\n",
    "        if item in search_items:\n",
    "            print(f\"{item} được tìm thấy \"\n",
    "                  f\"ở hàng {i} và cột {j}\")"
   ]
  },
  {
   "cell_type": "code",
   "execution_count": null,
   "metadata": {},
   "outputs": [],
   "source": []
  }
 ],
 "metadata": {
  "kernelspec": {
   "display_name": "aio",
   "language": "python",
   "name": "python3"
  },
  "language_info": {
   "codemirror_mode": {
    "name": "ipython",
    "version": 3
   },
   "file_extension": ".py",
   "mimetype": "text/x-python",
   "name": "python",
   "nbconvert_exporter": "python",
   "pygments_lexer": "ipython3",
   "version": "3.10.14"
  }
 },
 "nbformat": 4,
 "nbformat_minor": 2
}
