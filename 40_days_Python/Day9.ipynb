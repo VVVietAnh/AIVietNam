{
 "cells": [
  {
   "cell_type": "markdown",
   "metadata": {},
   "source": [
    "## Basic Python - List"
   ]
  },
  {
   "cell_type": "code",
   "execution_count": 1,
   "metadata": {},
   "outputs": [
    {
     "data": {
      "text/plain": [
       "[1, 2, 3, 4, 5, 6, 7, 8, 9, 10]"
      ]
     },
     "execution_count": 1,
     "metadata": {},
     "output_type": "execute_result"
    }
   ],
   "source": [
    "# 9.1   Create a list of numbers form 1 to 10\n",
    "lst_data = list(range(1, 11))\n",
    "lst_data"
   ]
  },
  {
   "cell_type": "code",
   "execution_count": 3,
   "metadata": {},
   "outputs": [
    {
     "name": "stdout",
     "output_type": "stream",
     "text": [
      "Median : 5.5\n"
     ]
    }
   ],
   "source": [
    "# 9.2   Find the median of lst_data (not using numpy)\n",
    "lst_data.sort()\n",
    "if len(lst_data) % 2 == 0:\n",
    "    median = (lst_data[len(lst_data) // 2 - 1] + lst_data[len(lst_data) // 2]) / 2\n",
    "else:\n",
    "    median = lst_data[len(lst_data) // 2]\n",
    "print(f\"Median : {median}\")"
   ]
  },
  {
   "cell_type": "code",
   "execution_count": 4,
   "metadata": {},
   "outputs": [
    {
     "data": {
      "text/plain": [
       "[9, 7, 5, 3, 1]"
      ]
     },
     "execution_count": 4,
     "metadata": {},
     "output_type": "execute_result"
    }
   ],
   "source": [
    "# 9.3: Filter odd number from lst_data and store them in a new list lst_odd_filter with descending order\n",
    "lst_odd_filter = [i for i in lst_data if i % 2 != 0]\n",
    "lst_odd_filter.sort(reverse=True)\n",
    "lst_odd_filter"
   ]
  },
  {
   "cell_type": "code",
   "execution_count": null,
   "metadata": {},
   "outputs": [],
   "source": []
  }
 ],
 "metadata": {
  "kernelspec": {
   "display_name": "aio",
   "language": "python",
   "name": "python3"
  },
  "language_info": {
   "codemirror_mode": {
    "name": "ipython",
    "version": 3
   },
   "file_extension": ".py",
   "mimetype": "text/x-python",
   "name": "python",
   "nbconvert_exporter": "python",
   "pygments_lexer": "ipython3",
   "version": "3.10.14"
  }
 },
 "nbformat": 4,
 "nbformat_minor": 2
}
