{
 "cells": [
  {
   "cell_type": "code",
   "execution_count": 1,
   "metadata": {},
   "outputs": [],
   "source": [
    "def quadratic_equation(a, b, c):\n",
    "    if a == 0:\n",
    "        print(f\"Equation is not quadratic\")\n",
    "        print(f\"Equation has one root: {-c/b}\")\n",
    "        return -c/b\n",
    "    else:\n",
    "        delta = b**2 - 4*a*c\n",
    "        if delta < 0:\n",
    "            print(f\"Equation has no roots\")\n",
    "            return None\n",
    "        elif delta == 0:\n",
    "            print(f\"Equation has one root: {-b/(2*a)}\")\n",
    "            return -b/(2*a)\n",
    "        else:\n",
    "            print(f\"Equation has two roots: {(-b-delta**0.5)/(2*a)} and {(-b+delta**0.5)/(2*a)}\")\n",
    "            return (-b-delta**0.5)/(2*a), (-b+delta**0.5)/(2*a)\n"
   ]
  },
  {
   "cell_type": "code",
   "execution_count": 2,
   "metadata": {},
   "outputs": [
    {
     "name": "stdout",
     "output_type": "stream",
     "text": [
      "Equation has two roots: -2.0 and -1.0\n"
     ]
    },
    {
     "data": {
      "text/plain": [
       "(-2.0, -1.0)"
      ]
     },
     "execution_count": 2,
     "metadata": {},
     "output_type": "execute_result"
    }
   ],
   "source": [
    "quadratic_equation(a=2, b=6, c=4)"
   ]
  },
  {
   "cell_type": "code",
   "execution_count": 3,
   "metadata": {},
   "outputs": [
    {
     "name": "stdout",
     "output_type": "stream",
     "text": [
      "Equation has one root: -1.0\n"
     ]
    },
    {
     "data": {
      "text/plain": [
       "-1.0"
      ]
     },
     "execution_count": 3,
     "metadata": {},
     "output_type": "execute_result"
    }
   ],
   "source": [
    "quadratic_equation(a=1, b=2, c=1)"
   ]
  },
  {
   "cell_type": "code",
   "execution_count": 4,
   "metadata": {},
   "outputs": [
    {
     "name": "stdout",
     "output_type": "stream",
     "text": [
      "Equation has no roots\n"
     ]
    }
   ],
   "source": [
    "quadratic_equation(a=4, b=6, c=3)"
   ]
  }
 ],
 "metadata": {
  "kernelspec": {
   "display_name": "aio",
   "language": "python",
   "name": "python3"
  },
  "language_info": {
   "codemirror_mode": {
    "name": "ipython",
    "version": 3
   },
   "file_extension": ".py",
   "mimetype": "text/x-python",
   "name": "python",
   "nbconvert_exporter": "python",
   "pygments_lexer": "ipython3",
   "version": "3.10.14"
  }
 },
 "nbformat": 4,
 "nbformat_minor": 2
}
