{
 "cells": [
  {
   "cell_type": "markdown",
   "metadata": {},
   "source": [
    "## Daily AI Excercise - Numpy - Pytorch/ Tensorflow"
   ]
  },
  {
   "cell_type": "code",
   "execution_count": 1,
   "metadata": {},
   "outputs": [],
   "source": [
    "import numpy as np\n",
    "import torch\n",
    "import tensorflow as tf"
   ]
  },
  {
   "cell_type": "code",
   "execution_count": 2,
   "metadata": {},
   "outputs": [
    {
     "name": "stdout",
     "output_type": "stream",
     "text": [
      "NumPy array of zeros:\n",
      "[[0. 0. 0. 0.]\n",
      " [0. 0. 0. 0.]\n",
      " [0. 0. 0. 0.]]\n",
      "PyTorch tensor of zeros:\n",
      "tensor([[0., 0., 0., 0.],\n",
      "        [0., 0., 0., 0.],\n",
      "        [0., 0., 0., 0.]])\n",
      "TensorFlow tensor of zeros:\n",
      "[[0. 0. 0. 0.]\n",
      " [0. 0. 0. 0.]\n",
      " [0. 0. 0. 0.]]\n"
     ]
    }
   ],
   "source": [
    "arr_zeros = np.zeros((3, 4))\n",
    "print(f\"NumPy array of zeros:\\n{arr_zeros}\")\n",
    "\n",
    "tensor_zeros = torch.zeros((3, 4))\n",
    "print(f\"PyTorch tensor of zeros:\\n{tensor_zeros}\")\n",
    "\n",
    "tensor_zeros = tf.zeros((3, 4))\n",
    "print(f\"TensorFlow tensor of zeros:\\n{tensor_zeros}\")"
   ]
  },
  {
   "cell_type": "code",
   "execution_count": 3,
   "metadata": {},
   "outputs": [
    {
     "name": "stdout",
     "output_type": "stream",
     "text": [
      "NumPy array of ones:\n",
      "[[1. 1. 1. 1.]\n",
      " [1. 1. 1. 1.]\n",
      " [1. 1. 1. 1.]]\n",
      "PyTorch tensor of ones:\n",
      "tensor([[1., 1., 1., 1.],\n",
      "        [1., 1., 1., 1.],\n",
      "        [1., 1., 1., 1.]])\n",
      "TensorFlow tensor of ones:\n",
      "[[1. 1. 1. 1.]\n",
      " [1. 1. 1. 1.]\n",
      " [1. 1. 1. 1.]]\n"
     ]
    }
   ],
   "source": [
    "arr_ones = np.ones((3, 4))\n",
    "print(f\"NumPy array of ones:\\n{arr_ones}\")\n",
    "\n",
    "tensor_ones = torch.ones((3, 4))\n",
    "print(f\"PyTorch tensor of ones:\\n{tensor_ones}\")\n",
    "\n",
    "tensor_ones = tf.ones((3, 4))\n",
    "print(f\"TensorFlow tensor of ones:\\n{tensor_ones}\")\n"
   ]
  },
  {
   "cell_type": "code",
   "execution_count": 4,
   "metadata": {},
   "outputs": [
    {
     "name": "stdout",
     "output_type": "stream",
     "text": [
      "NumPy array of fives:\n",
      "[[5 5 5 5]\n",
      " [5 5 5 5]\n",
      " [5 5 5 5]]\n",
      "PyTorch tensor of fives:\n",
      "tensor([[5, 5, 5, 5],\n",
      "        [5, 5, 5, 5],\n",
      "        [5, 5, 5, 5]])\n",
      "TensorFlow tensor of fives:\n",
      "[[5 5 5 5]\n",
      " [5 5 5 5]\n",
      " [5 5 5 5]]\n"
     ]
    }
   ],
   "source": [
    "arr_full = np.full((3, 4), 5)\n",
    "print(f\"NumPy array of fives:\\n{arr_full}\")\n",
    "\n",
    "tensor_full = torch.full((3, 4), 5)\n",
    "print(f\"PyTorch tensor of fives:\\n{tensor_full}\")\n",
    "\n",
    "tensor_full = tf.fill((3, 4), 5)\n",
    "print(f\"TensorFlow tensor of fives:\\n{tensor_full}\")"
   ]
  },
  {
   "cell_type": "code",
   "execution_count": null,
   "metadata": {},
   "outputs": [],
   "source": []
  }
 ],
 "metadata": {
  "kernelspec": {
   "display_name": "base",
   "language": "python",
   "name": "python3"
  },
  "language_info": {
   "codemirror_mode": {
    "name": "ipython",
    "version": 3
   },
   "file_extension": ".py",
   "mimetype": "text/x-python",
   "name": "python",
   "nbconvert_exporter": "python",
   "pygments_lexer": "ipython3",
   "version": "3.10.8"
  }
 },
 "nbformat": 4,
 "nbformat_minor": 2
}
