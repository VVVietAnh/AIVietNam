{
 "cells": [
  {
   "cell_type": "code",
   "execution_count": 2,
   "metadata": {},
   "outputs": [
    {
     "name": "stdout",
     "output_type": "stream",
     "text": [
      "4500\n"
     ]
    }
   ],
   "source": [
    "#Q1\n",
    "n = 0\n",
    "for i in range(0, 1000, 100):\n",
    "    n += i\n",
    "print(n)"
   ]
  },
  {
   "cell_type": "code",
   "execution_count": 3,
   "metadata": {},
   "outputs": [
    {
     "name": "stdout",
     "output_type": "stream",
     "text": [
      "['pos', 'neg', 'neg', 'pos']\n"
     ]
    }
   ],
   "source": [
    "#Q2\n",
    "def a_function_helper(x):\n",
    "    if x>0:\n",
    "        return 'pos'\n",
    "    else:\n",
    "        return 'neg'\n",
    "    \n",
    "def a_function(data):\n",
    "    res = [a_function_helper(x)for x in data]\n",
    "    return res\n",
    "\n",
    "data = [1, 0, -1, 2]\n",
    "print(a_function(data))"
   ]
  },
  {
   "cell_type": "code",
   "execution_count": 4,
   "metadata": {},
   "outputs": [
    {
     "name": "stdout",
     "output_type": "stream",
     "text": [
      "Python\n"
     ]
    }
   ],
   "source": [
    "#Q3\n",
    "data = \"Python Programming\"\n",
    "print(data.split()[0])"
   ]
  },
  {
   "cell_type": "code",
   "execution_count": 6,
   "metadata": {},
   "outputs": [
    {
     "data": {
      "text/plain": [
       "True"
      ]
     },
     "execution_count": 6,
     "metadata": {},
     "output_type": "execute_result"
    }
   ],
   "source": [
    "#Q4\n",
    "\"elephant\"*1 > \"ant\"*100    # True because \"elephant\" > \"ant\" in lexicographical order"
   ]
  },
  {
   "cell_type": "code",
   "execution_count": 8,
   "metadata": {},
   "outputs": [
    {
     "name": "stdout",
     "output_type": "stream",
     "text": [
      "[0, 0, 1, 1, 1, 1]\n"
     ]
    }
   ],
   "source": [
    "#5\n",
    "def my_function(signal):\n",
    "    var = True\n",
    "    while var:\n",
    "        var = False\n",
    "        for i in range(len(signal)-1):\n",
    "            if signal[i] > signal[i+1]:\n",
    "                signal[i], signal[i+1] = signal[i+1], signal[i]\n",
    "                var = True  \n",
    "\n",
    "my_signal = [1, 0, 0, 1, 1, 1]\n",
    "my_function(my_signal)\n",
    "print(my_signal)    # [0, 0, 1, 1, 1, 1] because the function sorts the list in ascending order"
   ]
  },
  {
   "cell_type": "code",
   "execution_count": 10,
   "metadata": {},
   "outputs": [
    {
     "name": "stdout",
     "output_type": "stream",
     "text": [
      "6\n"
     ]
    }
   ],
   "source": [
    "#6\n",
    "n = 0\n",
    "for i in range(10):\n",
    "    n += i\n",
    "    if n>0 and n%2 == 0:\n",
    "        break\n",
    "print(n)    # 6 because n = 0 then 1 then 3 then 6"
   ]
  },
  {
   "cell_type": "code",
   "execution_count": 11,
   "metadata": {},
   "outputs": [
    {
     "data": {
      "text/plain": [
       "2.5"
      ]
     },
     "execution_count": 11,
     "metadata": {},
     "output_type": "execute_result"
    }
   ],
   "source": [
    "#7\n",
    "def my_function(list_nums = [1,2,3,4]):\n",
    "    var = 0\n",
    "    for i in list_nums:\n",
    "        var += i\n",
    "    return var/len(list_nums)\n",
    "\n",
    "my_function()   # 2.5 because (1+2+3+4)/4 = 2.5"
   ]
  },
  {
   "cell_type": "code",
   "execution_count": 12,
   "metadata": {},
   "outputs": [
    {
     "name": "stdout",
     "output_type": "stream",
     "text": [
      "spring\n"
     ]
    }
   ],
   "source": [
    "#8\n",
    "space1 = \"It's sunny here!\"\n",
    "space2 = \"It is hot here in the spring?\"\n",
    "space = space1 + space2\n",
    "print(space[-7:-1])     # \"spring\" because it is the str with index -7 to -1"
   ]
  },
  {
   "cell_type": "code",
   "execution_count": 14,
   "metadata": {},
   "outputs": [
    {
     "ename": "TypeError",
     "evalue": "'<' not supported between instances of 'str' and 'int'",
     "output_type": "error",
     "traceback": [
      "\u001b[1;31m---------------------------------------------------------------------------\u001b[0m",
      "\u001b[1;31mTypeError\u001b[0m                                 Traceback (most recent call last)",
      "Cell \u001b[1;32mIn[14], line 3\u001b[0m\n\u001b[0;32m      1\u001b[0m \u001b[38;5;66;03m#9\u001b[39;00m\n\u001b[0;32m      2\u001b[0m data \u001b[38;5;241m=\u001b[39m [\u001b[38;5;241m1\u001b[39m, \u001b[38;5;241m2\u001b[39m, \u001b[38;5;241m3\u001b[39m, \u001b[38;5;124m\"\u001b[39m\u001b[38;5;124mI\u001b[39m\u001b[38;5;124m\"\u001b[39m, \u001b[38;5;124m\"\u001b[39m\u001b[38;5;124mam\u001b[39m\u001b[38;5;124m\"\u001b[39m, \u001b[38;5;124m\"\u001b[39m\u001b[38;5;124mAI\u001b[39m\u001b[38;5;124m\"\u001b[39m]\n\u001b[1;32m----> 3\u001b[0m new_data \u001b[38;5;241m=\u001b[39m \u001b[38;5;28;43msorted\u001b[39;49m\u001b[43m(\u001b[49m\u001b[43mdata\u001b[49m\u001b[43m)\u001b[49m\n\u001b[0;32m      4\u001b[0m \u001b[38;5;28mprint\u001b[39m(new_data) \u001b[38;5;66;03m# TypeError because the list contains both int and str\u001b[39;00m\n",
      "\u001b[1;31mTypeError\u001b[0m: '<' not supported between instances of 'str' and 'int'"
     ]
    }
   ],
   "source": [
    "#9\n",
    "data = [1, 2, 3, \"I\", \"am\", \"AI\"]\n",
    "new_data = sorted(data)\n",
    "print(new_data) # TypeError because the list contains both int and str"
   ]
  },
  {
   "cell_type": "code",
   "execution_count": 15,
   "metadata": {},
   "outputs": [
    {
     "name": "stdout",
     "output_type": "stream",
     "text": [
      "['D', 'u', 'o', ',', ' ', 'c', 'm', 'e', 'h', 'r', '!']\n"
     ]
    }
   ],
   "source": [
    "#10\n",
    "my_string = \"Duo, come here!\"\n",
    "\n",
    "my_bag_of_word = []\n",
    "for element in my_string:\n",
    "    if element not in my_bag_of_word:\n",
    "        my_bag_of_word.append(element)\n",
    "print(my_bag_of_word)   # ['D','u','o',',',' ','c','m','e','h','r','!']"
   ]
  },
  {
   "cell_type": "code",
   "execution_count": 17,
   "metadata": {},
   "outputs": [
    {
     "name": "stdout",
     "output_type": "stream",
     "text": [
      "3\n"
     ]
    }
   ],
   "source": [
    "#11\n",
    "my_string = \"It's raining cats and dogs\"\n",
    "results = my_string.count('s')\n",
    "\n",
    "print(results)  # 3"
   ]
  },
  {
   "cell_type": "code",
   "execution_count": 19,
   "metadata": {},
   "outputs": [
    {
     "name": "stdout",
     "output_type": "stream",
     "text": [
      "1  0  0  \n",
      "0  1  0  \n",
      "0  0  1  \n"
     ]
    }
   ],
   "source": [
    "#12\n",
    "def my_function(x):\n",
    "    for i in range(x):\n",
    "        for j in range(x):\n",
    "            if i == j:\n",
    "                print(\"1 \", end=\" \")\n",
    "            else:\n",
    "                print(\"0 \", end=\" \")\n",
    "        print()\n",
    "my_function(3)  # 1 0 0        0 1 0          0 0 1"
   ]
  },
  {
   "cell_type": "code",
   "execution_count": 20,
   "metadata": {},
   "outputs": [
    {
     "name": "stdout",
     "output_type": "stream",
     "text": [
      "6\n"
     ]
    }
   ],
   "source": [
    "#13\n",
    "def my_function(y):\n",
    "    var = 1\n",
    "    while(y>1):\n",
    "        var = var*y\n",
    "        y=y-1\n",
    "    return var\n",
    "\n",
    "print(my_function(3))   # 6"
   ]
  },
  {
   "cell_type": "code",
   "execution_count": 1,
   "metadata": {},
   "outputs": [
    {
     "name": "stdout",
     "output_type": "stream",
     "text": [
      "[3, 6, 9]\n"
     ]
    }
   ],
   "source": [
    "#14\n",
    "even_numbers = [x for x in range(3, 12) if x%3==0]\n",
    "print(even_numbers)     # 3, 6, 9"
   ]
  },
  {
   "cell_type": "code",
   "execution_count": 2,
   "metadata": {},
   "outputs": [
    {
     "name": "stdout",
     "output_type": "stream",
     "text": [
      "[1, 3, 5]\n",
      "[1, 41, 81]\n",
      "[2, 99, 23]\n"
     ]
    }
   ],
   "source": [
    "#15\n",
    "X = [[1,1,2],[3,41,99],[5,81,23]]\n",
    "result = [[0,0,0],[0,0,0],[0,0,0]]\n",
    "\n",
    "for i in range(len(X)):\n",
    "    for j in range(len(X[0])):\n",
    "        result[j][i] = X[i][j]\n",
    "\n",
    "for r in result:\n",
    "    print(r)    # 1 3 5 , 1 41 81 , 2 99 23"
   ]
  },
  {
   "cell_type": "code",
   "execution_count": 3,
   "metadata": {},
   "outputs": [
    {
     "name": "stdout",
     "output_type": "stream",
     "text": [
      "14\n"
     ]
    }
   ],
   "source": [
    "#16\n",
    "def my_function(my_data):\n",
    "    rs = 0\n",
    "    for i in my_data:\n",
    "        rs+=i\n",
    "    return rs\n",
    "\n",
    "my_list=[2,3,4,5]\n",
    "print(my_function(my_data = my_list))   # 14 - sum of list"
   ]
  },
  {
   "cell_type": "code",
   "execution_count": 5,
   "metadata": {},
   "outputs": [
    {
     "name": "stdout",
     "output_type": "stream",
     "text": [
      "[{'friends': ['Tom', 'Mike', 'Taylor']}, 2002, 2099, 3000, 'moon']\n"
     ]
    }
   ],
   "source": [
    "#17\n",
    "def my_function(my_data):\n",
    "    result = []\n",
    "    for element in data:\n",
    "        if element not in result:\n",
    "            result.append(element)\n",
    "    return result\n",
    "\n",
    "data = [{'friends':['Tom', 'Mike', 'Taylor']}, 2002, 2099, 3000, 'moon']\n",
    "print(my_function(data))    # exacly data"
   ]
  },
  {
   "cell_type": "code",
   "execution_count": 6,
   "metadata": {},
   "outputs": [
    {
     "name": "stdout",
     "output_type": "stream",
     "text": [
      "[2, 2, 3, 4, 5, 5, 5]\n"
     ]
    }
   ],
   "source": [
    "#18\n",
    "def my_function(data, max, min):\n",
    "    result = []\n",
    "    for i in data:\n",
    "        if i < min:\n",
    "            result.append(min)\n",
    "        elif i > max:\n",
    "            result.append(max)\n",
    "        else:\n",
    "            result.append(i)\n",
    "    return result\n",
    "\n",
    "my_list = [1,2,3,4,5,6,7]\n",
    "max=5\n",
    "min=2\n",
    "print(my_function(max=max,min=min, data=my_list))   # [2,2,3,4,5,5,5]"
   ]
  },
  {
   "cell_type": "code",
   "execution_count": 7,
   "metadata": {},
   "outputs": [
    {
     "data": {
      "text/plain": [
       "[-1, -4, -9, 2, 3, 5, 0, 0, 0]"
      ]
     },
     "execution_count": 7,
     "metadata": {},
     "output_type": "execute_result"
    }
   ],
   "source": [
    "#19\n",
    "def my_function(x, y):\n",
    "    x.extend(y)\n",
    "    return x\n",
    "\n",
    "list_num1 = [-1, -4, -9]\n",
    "list_num2 = [2, 3, 5]\n",
    "list_num3 = [0, 0, 0]\n",
    "\n",
    "my_function(list_num1, my_function(list_num2, list_num3))   # [-1,-4,-9,2,3,5,0,0,0]"
   ]
  },
  {
   "cell_type": "code",
   "execution_count": 10,
   "metadata": {},
   "outputs": [
    {
     "name": "stdout",
     "output_type": "stream",
     "text": [
      "False\n"
     ]
    }
   ],
   "source": [
    "#20\n",
    "def check_the_number(N):\n",
    "    list_of_numbers = []\n",
    "    result = \"\"\n",
    "    for i in range(1,10,3):\n",
    "        list_of_numbers.append(i)\n",
    "    if N in list_of_numbers:\n",
    "        results = \"True\"\n",
    "    if N not in list_of_numbers:\n",
    "        results = \"False\"\n",
    "    return results\n",
    "\n",
    "N = 0\n",
    "N =+ 5\n",
    "results = check_the_number(N)\n",
    "print(results)  # False becasue N not in list of numbers"
   ]
  },
  {
   "cell_type": "code",
   "execution_count": 12,
   "metadata": {},
   "outputs": [
    {
     "name": "stdout",
     "output_type": "stream",
     "text": [
      "<class 'str'>\n"
     ]
    }
   ],
   "source": [
    "#21\n",
    "data = \"['dog', 'cat', [1,2]]\"\n",
    "print(type(data))   # str"
   ]
  },
  {
   "cell_type": "code",
   "execution_count": 13,
   "metadata": {},
   "outputs": [
    {
     "data": {
      "text/plain": [
       "-20"
      ]
     },
     "execution_count": 13,
     "metadata": {},
     "output_type": "execute_result"
    }
   ],
   "source": [
    "#22\n",
    "def my_function(n):\n",
    "    x = n[0]\n",
    "    for i in n:\n",
    "        if i < x:\n",
    "            x=i\n",
    "    return x\n",
    "\n",
    "my_list = [-7, 99, 100, 2, 0, -20]\n",
    "my_function(my_list)    # -20"
   ]
  },
  {
   "cell_type": "code",
   "execution_count": 14,
   "metadata": {},
   "outputs": [
    {
     "name": "stdout",
     "output_type": "stream",
     "text": [
      "This test is very easy I Love It\n"
     ]
    }
   ],
   "source": [
    "#23\n",
    "Ann = '@ThiS tEst is Very eaSy @@'\n",
    "David = \"i love iT\"\n",
    "\n",
    "txt = Ann.strip('@').capitalize() + David.title()\n",
    "print(txt)  # This test is very easy I Love It"
   ]
  },
  {
   "cell_type": "code",
   "execution_count": 15,
   "metadata": {},
   "outputs": [
    {
     "data": {
      "text/plain": [
       "0"
      ]
     },
     "execution_count": 15,
     "metadata": {},
     "output_type": "execute_result"
    }
   ],
   "source": [
    "#24\n",
    "def my_function(n):\n",
    "    x = n[0]\n",
    "    for i in n:\n",
    "        if i>x:\n",
    "            x=i\n",
    "    return x\n",
    "\n",
    "my_list = [-200, -99, -100, -2004, 0, -20]\n",
    "my_function(my_list)    # 0\n",
    "    "
   ]
  },
  {
   "cell_type": "code",
   "execution_count": 16,
   "metadata": {},
   "outputs": [
    {
     "data": {
      "text/plain": [
       "False"
      ]
     },
     "execution_count": 16,
     "metadata": {},
     "output_type": "execute_result"
    }
   ],
   "source": [
    "#25\n",
    "def my_function(integers, number = -999):\n",
    "    return any([True if i == number else False for i in integers])\n",
    "\n",
    "my_list = [1, 3, 6, 9. -100, 19, 2004, 2023]\n",
    "my_function(my_list)    # False"
   ]
  },
  {
   "cell_type": "code",
   "execution_count": 18,
   "metadata": {},
   "outputs": [
    {
     "name": "stdout",
     "output_type": "stream",
     "text": [
      "['I', 'do', 'my', 'homework', 'every', 'evening']\n"
     ]
    }
   ],
   "source": [
    "#26\n",
    "my_exam = \"I do my     homework every evening!\"\n",
    "print(my_exam.strip('!').split())   #['I', 'do', 'my', 'homework', 'every', 'evening']"
   ]
  },
  {
   "cell_type": "code",
   "execution_count": 19,
   "metadata": {},
   "outputs": [
    {
     "name": "stdout",
     "output_type": "stream",
     "text": [
      "[1, 2, 3]\n"
     ]
    }
   ],
   "source": [
    "#27\n",
    "def function_helper(x, data):\n",
    "    for i in data:\n",
    "        if x==i:\n",
    "            return 0\n",
    "        \n",
    "    return 1\n",
    "\n",
    "def a_function(data):\n",
    "    res = []\n",
    "    for i in data:\n",
    "        if function_helper(i, res):\n",
    "            res.append(i)\n",
    "\n",
    "    return res\n",
    "\n",
    "lst = [1,1,2,2,3]\n",
    "print(a_function(lst))  # [1,2,3]"
   ]
  },
  {
   "cell_type": "code",
   "execution_count": 20,
   "metadata": {},
   "outputs": [
    {
     "name": "stdout",
     "output_type": "stream",
     "text": [
      "None\n"
     ]
    }
   ],
   "source": [
    "#28\n",
    "def my_function(signal1, signal2):\n",
    "    var = False\n",
    "    for s1 in signal1:\n",
    "        for s2 in signal2:\n",
    "            if s1 == s2:\n",
    "                var = True\n",
    "                return var\n",
    "print(my_function([0, 1, 1, 0], [100, 11, 110]))    # None"
   ]
  },
  {
   "cell_type": "code",
   "execution_count": 21,
   "metadata": {},
   "outputs": [
    {
     "name": "stdout",
     "output_type": "stream",
     "text": [
      "True\n"
     ]
    }
   ],
   "source": [
    "#29\n",
    "def my_function(signal1, signal2):\n",
    "    var = False\n",
    "    for s1 in signal1:\n",
    "        for s2 in signal2:\n",
    "            if s1 == s2:\n",
    "                var = True\n",
    "                return var\n",
    "print(my_function([0,1,1,9], [9,9,9]))  # True"
   ]
  },
  {
   "cell_type": "code",
   "execution_count": 22,
   "metadata": {},
   "outputs": [
    {
     "name": "stdout",
     "output_type": "stream",
     "text": [
      "[2, -4]\n"
     ]
    }
   ],
   "source": [
    "#30\n",
    "def my_function(data):\n",
    "    var = []\n",
    "    for i in data:\n",
    "        if i%2 == 0:\n",
    "            var.append(i)\n",
    "    return var\n",
    "\n",
    "print(my_function([1, 2, -4, 5, 7, 23]))    # [2, -4]"
   ]
  },
  {
   "cell_type": "code",
   "execution_count": 23,
   "metadata": {},
   "outputs": [
    {
     "name": "stdout",
     "output_type": "stream",
     "text": [
      "\n",
      "    Returns the square of the number entered.\n",
      "    The number entered must be an integer\n",
      "    \n"
     ]
    }
   ],
   "source": [
    "#31\n",
    "def square(num):\n",
    "    '''\n",
    "    Returns the square of the number entered.\n",
    "    The number entered must be an integer\n",
    "    '''\n",
    "    return num **2\n",
    "\n",
    "print(square.__doc__)"
   ]
  },
  {
   "cell_type": "code",
   "execution_count": 25,
   "metadata": {},
   "outputs": [
    {
     "name": "stdout",
     "output_type": "stream",
     "text": [
      "tac\n"
     ]
    }
   ],
   "source": [
    "#32\n",
    "def a_function(x):\n",
    "    res = \"\"\n",
    "    for i in x:\n",
    "        res = i+res\n",
    "    return res\n",
    "\n",
    "x='cat'\n",
    "print(a_function(x))    # tac"
   ]
  },
  {
   "cell_type": "code",
   "execution_count": 26,
   "metadata": {},
   "outputs": [
    {
     "name": "stdout",
     "output_type": "stream",
     "text": [
      "odd:10, even:3\n"
     ]
    }
   ],
   "source": [
    "#33\n",
    "my_list = [1,1,2,3,5]\n",
    "odd = 1\n",
    "even=0\n",
    "\n",
    "for number in my_list:\n",
    "    if number%3 == 0:\n",
    "        even+= number\n",
    "    else:\n",
    "        odd += number\n",
    "print(f\"odd:{odd}, even:{even}\")    # odd:10, even:3"
   ]
  },
  {
   "cell_type": "code",
   "execution_count": null,
   "metadata": {},
   "outputs": [],
   "source": []
  }
 ],
 "metadata": {
  "kernelspec": {
   "display_name": "aio",
   "language": "python",
   "name": "python3"
  },
  "language_info": {
   "codemirror_mode": {
    "name": "ipython",
    "version": 3
   },
   "file_extension": ".py",
   "mimetype": "text/x-python",
   "name": "python",
   "nbconvert_exporter": "python",
   "pygments_lexer": "ipython3",
   "version": "3.10.14"
  }
 },
 "nbformat": 4,
 "nbformat_minor": 2
}
