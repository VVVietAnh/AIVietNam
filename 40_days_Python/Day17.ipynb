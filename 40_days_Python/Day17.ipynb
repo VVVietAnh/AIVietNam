{
 "cells": [
  {
   "cell_type": "markdown",
   "metadata": {},
   "source": [
    "## Daily AI Excercise - List"
   ]
  },
  {
   "cell_type": "code",
   "execution_count": 2,
   "metadata": {},
   "outputs": [
    {
     "name": "stdout",
     "output_type": "stream",
     "text": [
      "[(1, 3), (4, 6), (7, 9)]\n"
     ]
    }
   ],
   "source": [
    "lst_data = [[1, 2, 3], [4, 5, 6], [7, 8, 9]]\n",
    "lst_sub_data = []\n",
    "\n",
    "for idx, item in enumerate(lst_data):\n",
    "    temp_lst = item[0], item[2]\n",
    "    lst_sub_data.append(temp_lst)\n",
    "\n",
    "print(lst_sub_data)"
   ]
  },
  {
   "cell_type": "code",
   "execution_count": null,
   "metadata": {},
   "outputs": [],
   "source": []
  }
 ],
 "metadata": {
  "kernelspec": {
   "display_name": "base",
   "language": "python",
   "name": "python3"
  },
  "language_info": {
   "codemirror_mode": {
    "name": "ipython",
    "version": 3
   },
   "file_extension": ".py",
   "mimetype": "text/x-python",
   "name": "python",
   "nbconvert_exporter": "python",
   "pygments_lexer": "ipython3",
   "version": "3.10.8"
  }
 },
 "nbformat": 4,
 "nbformat_minor": 2
}
