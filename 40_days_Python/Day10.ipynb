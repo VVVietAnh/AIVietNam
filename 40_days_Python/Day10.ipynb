{
 "cells": [
  {
   "cell_type": "markdown",
   "metadata": {},
   "source": [
    "## Daily AI Excercise - Numpy Array and Pytorch"
   ]
  },
  {
   "cell_type": "code",
   "execution_count": 2,
   "metadata": {},
   "outputs": [],
   "source": [
    "import numpy as np\n",
    "import torch\n",
    "import tensorflow as tf"
   ]
  },
  {
   "cell_type": "code",
   "execution_count": 3,
   "metadata": {},
   "outputs": [
    {
     "name": "stdout",
     "output_type": "stream",
     "text": [
      "PyTorch version:  2.0.1+cpu\n",
      "TensorFlow version:  2.12.0\n"
     ]
    }
   ],
   "source": [
    "print(\"PyTorch version: \", torch.__version__)\n",
    "print(\"TensorFlow version: \", tf.__version__)"
   ]
  },
  {
   "cell_type": "code",
   "execution_count": 5,
   "metadata": {},
   "outputs": [
    {
     "name": "stdout",
     "output_type": "stream",
     "text": [
      "Numpy 1D array:  [1 2 3 4 5 6 7 8 9] <class 'numpy.ndarray'>\n",
      "PyTorch 1D tensor:  tensor([1, 2, 3, 4, 5, 6, 7, 8, 9]) <class 'torch.Tensor'>\n",
      "TensorFlow 1D tensor:  tf.Tensor([1 2 3 4 5 6 7 8 9], shape=(9,), dtype=int32) <class 'tensorflow.python.framework.ops.EagerTensor'>\n"
     ]
    }
   ],
   "source": [
    "list_1D = [1, 2, 3, 4, 5, 6, 7, 8, 9]\n",
    "\n",
    "arr_1D = np.array(list_1D)\n",
    "print(\"Numpy 1D array: \", arr_1D, type(arr_1D))\n",
    "\n",
    "tensor_1D_pt = torch.tensor(list_1D)\n",
    "print(\"PyTorch 1D tensor: \", tensor_1D_pt, type(tensor_1D_pt))\n",
    "\n",
    "tensor_1D_tf = tf.convert_to_tensor(list_1D)\n",
    "print(\"TensorFlow 1D tensor: \", tensor_1D_tf, type(tensor_1D_tf))"
   ]
  },
  {
   "cell_type": "code",
   "execution_count": 6,
   "metadata": {},
   "outputs": [
    {
     "name": "stdout",
     "output_type": "stream",
     "text": [
      "Numpy 2D array:  [[1 2 3]\n",
      " [4 5 6]\n",
      " [7 8 9]] <class 'numpy.ndarray'>\n",
      "PyTorch 2D tensor:  tensor([[1, 2, 3],\n",
      "        [4, 5, 6],\n",
      "        [7, 8, 9]]) <class 'torch.Tensor'>\n",
      "TensorFlow 2D tensor:  tf.Tensor(\n",
      "[[1 2 3]\n",
      " [4 5 6]\n",
      " [7 8 9]], shape=(3, 3), dtype=int32) <class 'tensorflow.python.framework.ops.EagerTensor'>\n"
     ]
    }
   ],
   "source": [
    "list_2D = [[1, 2, 3], [4, 5, 6], [7, 8, 9]]\n",
    "\n",
    "arr_2D = np.array(list_2D)\n",
    "print(\"Numpy 2D array: \", arr_2D, type(arr_2D))\n",
    "\n",
    "tensor_2D_pt = torch.tensor(list_2D)\n",
    "print(\"PyTorch 2D tensor: \", tensor_2D_pt, type(tensor_2D_pt))\n",
    "\n",
    "tensor_2D_tf = tf.convert_to_tensor(list_2D)\n",
    "print(\"TensorFlow 2D tensor: \", tensor_2D_tf, type(tensor_2D_tf))\n"
   ]
  },
  {
   "cell_type": "code",
   "execution_count": null,
   "metadata": {},
   "outputs": [],
   "source": []
  }
 ],
 "metadata": {
  "kernelspec": {
   "display_name": "aio",
   "language": "python",
   "name": "python3"
  },
  "language_info": {
   "codemirror_mode": {
    "name": "ipython",
    "version": 3
   },
   "file_extension": ".py",
   "mimetype": "text/x-python",
   "name": "python",
   "nbconvert_exporter": "python",
   "pygments_lexer": "ipython3",
   "version": "3.10.8"
  }
 },
 "nbformat": 4,
 "nbformat_minor": 2
}
