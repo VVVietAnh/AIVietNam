{
 "cells": [
  {
   "cell_type": "markdown",
   "metadata": {},
   "source": [
    "## Daily AI Excercise - List - Interpolate"
   ]
  },
  {
   "cell_type": "code",
   "execution_count": 1,
   "metadata": {},
   "outputs": [],
   "source": [
    "lst_data = [1, 1.1, None, 1.4, None, 1.5, None, 2.0]"
   ]
  },
  {
   "cell_type": "code",
   "execution_count": 3,
   "metadata": {},
   "outputs": [
    {
     "name": "stdout",
     "output_type": "stream",
     "text": [
      "[1, 1.1, 1.1, 1.4, 1.4, 1.5, 1.5, 2.0]\n"
     ]
    }
   ],
   "source": [
    "def find_none_index(data):\n",
    "    result = -1\n",
    "\n",
    "    for i, v in enumerate(data):\n",
    "        if v is None:\n",
    "            result = i\n",
    "            break\n",
    "    \n",
    "    return result\n",
    "\n",
    "def find_end(data, index):\n",
    "    end = len(data)\n",
    "    for i in range(index+1, len(data), 1):\n",
    "        if data[i] != None:\n",
    "            end = i\n",
    "            break\n",
    "    return end\n",
    "\n",
    "def interpolate_nearest_neighbor(data, none_position):\n",
    "    nearest_neighbor = None\n",
    "    nearest_distance = float('inf')\n",
    "    for index in range(len(data)):\n",
    "        if data[index] is not None and abs(index - none_position) < nearest_distance:\n",
    "            nearest_neighbor = data[index]\n",
    "            nearest_distance = abs(index - none_position)\n",
    "\n",
    "    return nearest_neighbor\n",
    "\n",
    "def process_data(data):\n",
    "    while True:\n",
    "        index = find_none_index(data)\n",
    "        if index == -1:\n",
    "            break\n",
    "        \n",
    "        begin = index - 1\n",
    "\n",
    "        end = find_end(data, index)\n",
    "\n",
    "        if begin<0:\n",
    "            y = data[end]\n",
    "        elif end>=len(data):\n",
    "            y = data[begin]\n",
    "        else:\n",
    "            y = interpolate_nearest_neighbor(data, index)\n",
    "\n",
    "        data[index] = y\n",
    "    return data\n",
    "\n",
    "data = [1, 1.1, None, 1.4, None, 1.5, None, 2.0]\n",
    "result = process_data(data)\n",
    "print(result)"
   ]
  },
  {
   "cell_type": "code",
   "execution_count": null,
   "metadata": {},
   "outputs": [],
   "source": []
  }
 ],
 "metadata": {
  "kernelspec": {
   "display_name": "base",
   "language": "python",
   "name": "python3"
  },
  "language_info": {
   "codemirror_mode": {
    "name": "ipython",
    "version": 3
   },
   "file_extension": ".py",
   "mimetype": "text/x-python",
   "name": "python",
   "nbconvert_exporter": "python",
   "pygments_lexer": "ipython3",
   "version": "3.10.8"
  }
 },
 "nbformat": 4,
 "nbformat_minor": 2
}
